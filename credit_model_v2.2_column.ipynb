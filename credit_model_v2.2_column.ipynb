{
 "cells": [
  {
   "cell_type": "markdown",
   "metadata": {},
   "source": [
    "# 评分卡建模 v2.2\n",
    "#### 应用场景 (目标): 提供信用住产品给部分高分的用户 --- 即抓好用户\n",
    "\n",
    "- Good: 无Noshow, 并且较活跃:\n",
    "  + 789月订单 >= 3 并且 789月noshow订单 = 0\n",
    "- Bad:  Noshow 率较高的用户: \n",
    "  + (789月订单 <= 5 且 789月noshow订单 > 0) 或者 (789月订单 > 5 且 noshow% >= 0.2)\n",
    "\n",
    "#### 建模方法:\n",
    "- 选出正负样本数据, 其中, 注册时长 >= 0\n",
    "- Bad: 596052   Good: 1234434\n",
    "- 计算所有变量的 Information Value\n",
    "- 剔除 IV 过低的变量, 剩余的变量做 WOE 切割\n",
    "- 通过 Penalized Logistic 方法进行变量, 该方法能够处理共线性问题\n",
    "- 变量可解释性: 剔除回归参数为负的变量"
   ]
  },
  {
   "cell_type": "code",
   "execution_count": 1,
   "metadata": {
    "collapsed": true
   },
   "outputs": [],
   "source": [
    "import pandas as pd\n",
    "import numpy as np\n",
    "import matplotlib.pylab as plt\n",
    "from math import floor, ceil, log\n",
    "% matplotlib inline"
   ]
  },
  {
   "cell_type": "code",
   "execution_count": 1,
   "metadata": {
    "collapsed": false
   },
   "outputs": [],
   "source": [
    "# 数据太大了, 分块读\n",
    "reader = pd.read_csv('E:/work/Credit_ScoreCard/v2_Model/v2.2/ltl_credit_model_df.txt', sep = '\\t', dtype = {'uid': str,'gold_user_level':str}, iterator = True)\n",
    "chunks = []\n",
    "loop = True\n",
    "i = 1\n",
    "while loop:\n",
    "    try:\n",
    "        chunk = reader.get_chunk(300000)\n",
    "        chunks.append(chunk)\n",
    "        print i\n",
    "        i += 1\n",
    "    except StopIteration:\n",
    "        loop = False\n",
    "        print 'Iteration is stopped.'\n",
    "df_model = pd.concat(chunks, ignore_index = True)"
   ]
  },
  {
   "cell_type": "code",
   "execution_count": 4,
   "metadata": {
    "collapsed": false,
    "scrolled": true
   },
   "outputs": [
    {
     "data": {
      "text/plain": [
       "(1830486, 78)"
      ]
     },
     "execution_count": 4,
     "metadata": {},
     "output_type": "execute_result"
    }
   ],
   "source": [
    "df_model.shape"
   ]
  },
  {
   "cell_type": "code",
   "execution_count": 5,
   "metadata": {
    "collapsed": false
   },
   "outputs": [
    {
     "data": {
      "text/html": [
       "<div>\n",
       "<table border=\"1\" class=\"dataframe\">\n",
       "  <thead>\n",
       "    <tr style=\"text-align: right;\">\n",
       "      <th></th>\n",
       "      <th>uid</th>\n",
       "      <th>y_flag</th>\n",
       "      <th>gold_user_level</th>\n",
       "      <th>vip_grade</th>\n",
       "      <th>registerduration</th>\n",
       "      <th>customer_value</th>\n",
       "      <th>bound_valid_email</th>\n",
       "      <th>member_level</th>\n",
       "      <th>real_name_certify</th>\n",
       "      <th>htl_consuming_capacity</th>\n",
       "      <th>...</th>\n",
       "      <th>last_year_complains</th>\n",
       "      <th>last_6m_complains</th>\n",
       "      <th>credit_card_succ_num</th>\n",
       "      <th>credit_card_fail_num</th>\n",
       "      <th>credit_card_succ_rate</th>\n",
       "      <th>htl_advanced_date</th>\n",
       "      <th>recent5_noshow_rate</th>\n",
       "      <th>recent10_noshow_rate</th>\n",
       "      <th>recent15_noshow_rate</th>\n",
       "      <th>recent20_noshow_rate</th>\n",
       "    </tr>\n",
       "  </thead>\n",
       "  <tbody>\n",
       "    <tr>\n",
       "      <th>0</th>\n",
       "      <td>00000327</td>\n",
       "      <td>1</td>\n",
       "      <td>G</td>\n",
       "      <td>30</td>\n",
       "      <td>5518</td>\n",
       "      <td>71.46</td>\n",
       "      <td>1</td>\n",
       "      <td>30</td>\n",
       "      <td>0</td>\n",
       "      <td>39</td>\n",
       "      <td>...</td>\n",
       "      <td>0</td>\n",
       "      <td>0</td>\n",
       "      <td>35</td>\n",
       "      <td>3</td>\n",
       "      <td>0.921053</td>\n",
       "      <td>0.058824</td>\n",
       "      <td>0</td>\n",
       "      <td>0</td>\n",
       "      <td>0</td>\n",
       "      <td>0.055556</td>\n",
       "    </tr>\n",
       "    <tr>\n",
       "      <th>1</th>\n",
       "      <td>00000888</td>\n",
       "      <td>1</td>\n",
       "      <td>G</td>\n",
       "      <td>20</td>\n",
       "      <td>5518</td>\n",
       "      <td>76.43</td>\n",
       "      <td>1</td>\n",
       "      <td>20</td>\n",
       "      <td>1</td>\n",
       "      <td>53</td>\n",
       "      <td>...</td>\n",
       "      <td>38</td>\n",
       "      <td>38</td>\n",
       "      <td>38</td>\n",
       "      <td>0</td>\n",
       "      <td>1.000000</td>\n",
       "      <td>4.388889</td>\n",
       "      <td>0</td>\n",
       "      <td>0</td>\n",
       "      <td>0</td>\n",
       "      <td>0.050000</td>\n",
       "    </tr>\n",
       "    <tr>\n",
       "      <th>2</th>\n",
       "      <td>00000891</td>\n",
       "      <td>1</td>\n",
       "      <td>G</td>\n",
       "      <td>0</td>\n",
       "      <td>5518</td>\n",
       "      <td>-1.00</td>\n",
       "      <td>0</td>\n",
       "      <td>-1</td>\n",
       "      <td>0</td>\n",
       "      <td>71</td>\n",
       "      <td>...</td>\n",
       "      <td>0</td>\n",
       "      <td>0</td>\n",
       "      <td>0</td>\n",
       "      <td>0</td>\n",
       "      <td>-1.000000</td>\n",
       "      <td>3.400000</td>\n",
       "      <td>0</td>\n",
       "      <td>0</td>\n",
       "      <td>0</td>\n",
       "      <td>0.000000</td>\n",
       "    </tr>\n",
       "    <tr>\n",
       "      <th>3</th>\n",
       "      <td>00001197</td>\n",
       "      <td>0</td>\n",
       "      <td>G</td>\n",
       "      <td>10</td>\n",
       "      <td>5511</td>\n",
       "      <td>75.38</td>\n",
       "      <td>0</td>\n",
       "      <td>10</td>\n",
       "      <td>0</td>\n",
       "      <td>43</td>\n",
       "      <td>...</td>\n",
       "      <td>0</td>\n",
       "      <td>0</td>\n",
       "      <td>0</td>\n",
       "      <td>0</td>\n",
       "      <td>-1.000000</td>\n",
       "      <td>7.090909</td>\n",
       "      <td>0</td>\n",
       "      <td>0</td>\n",
       "      <td>0</td>\n",
       "      <td>0.000000</td>\n",
       "    </tr>\n",
       "    <tr>\n",
       "      <th>4</th>\n",
       "      <td>00001449</td>\n",
       "      <td>1</td>\n",
       "      <td>G</td>\n",
       "      <td>30</td>\n",
       "      <td>5518</td>\n",
       "      <td>87.66</td>\n",
       "      <td>1</td>\n",
       "      <td>30</td>\n",
       "      <td>1</td>\n",
       "      <td>80</td>\n",
       "      <td>...</td>\n",
       "      <td>0</td>\n",
       "      <td>0</td>\n",
       "      <td>25</td>\n",
       "      <td>0</td>\n",
       "      <td>1.000000</td>\n",
       "      <td>0.456522</td>\n",
       "      <td>0</td>\n",
       "      <td>0</td>\n",
       "      <td>0</td>\n",
       "      <td>0.050000</td>\n",
       "    </tr>\n",
       "  </tbody>\n",
       "</table>\n",
       "<p>5 rows × 78 columns</p>\n",
       "</div>"
      ],
      "text/plain": [
       "        uid  y_flag gold_user_level  vip_grade  registerduration  \\\n",
       "0  00000327       1               G         30              5518   \n",
       "1  00000888       1               G         20              5518   \n",
       "2  00000891       1               G          0              5518   \n",
       "3  00001197       0               G         10              5511   \n",
       "4  00001449       1               G         30              5518   \n",
       "\n",
       "   customer_value  bound_valid_email  member_level  real_name_certify  \\\n",
       "0           71.46                  1            30                  0   \n",
       "1           76.43                  1            20                  1   \n",
       "2           -1.00                  0            -1                  0   \n",
       "3           75.38                  0            10                  0   \n",
       "4           87.66                  1            30                  1   \n",
       "\n",
       "   htl_consuming_capacity          ...           last_year_complains  \\\n",
       "0                      39          ...                             0   \n",
       "1                      53          ...                            38   \n",
       "2                      71          ...                             0   \n",
       "3                      43          ...                             0   \n",
       "4                      80          ...                             0   \n",
       "\n",
       "   last_6m_complains  credit_card_succ_num  credit_card_fail_num  \\\n",
       "0                  0                    35                     3   \n",
       "1                 38                    38                     0   \n",
       "2                  0                     0                     0   \n",
       "3                  0                     0                     0   \n",
       "4                  0                    25                     0   \n",
       "\n",
       "   credit_card_succ_rate  htl_advanced_date  recent5_noshow_rate  \\\n",
       "0               0.921053           0.058824                    0   \n",
       "1               1.000000           4.388889                    0   \n",
       "2              -1.000000           3.400000                    0   \n",
       "3              -1.000000           7.090909                    0   \n",
       "4               1.000000           0.456522                    0   \n",
       "\n",
       "   recent10_noshow_rate  recent15_noshow_rate  recent20_noshow_rate  \n",
       "0                     0                     0              0.055556  \n",
       "1                     0                     0              0.050000  \n",
       "2                     0                     0              0.000000  \n",
       "3                     0                     0              0.000000  \n",
       "4                     0                     0              0.050000  \n",
       "\n",
       "[5 rows x 78 columns]"
      ]
     },
     "execution_count": 5,
     "metadata": {},
     "output_type": "execute_result"
    }
   ],
   "source": [
    "df_model.head()"
   ]
  },
  {
   "cell_type": "code",
   "execution_count": 6,
   "metadata": {
    "collapsed": false
   },
   "outputs": [
    {
     "data": {
      "text/plain": [
       "Series([], dtype: bool)"
      ]
     },
     "execution_count": 6,
     "metadata": {},
     "output_type": "execute_result"
    }
   ],
   "source": [
    "# 找出存在缺失值的变量\n",
    "df_model.isnull().any()[df_model.isnull().any() == True]"
   ]
  },
  {
   "cell_type": "code",
   "execution_count": 7,
   "metadata": {
    "collapsed": false
   },
   "outputs": [],
   "source": [
    "# 导出相关性矩阵\n",
    "df_model.corr(method='pearson', min_periods=1).to_csv('E:/work/Credit_ScoreCard/v2_Model/v2.2/corr_py.csv', sep=',')"
   ]
  },
  {
   "cell_type": "markdown",
   "metadata": {},
   "source": [
    "## 分20组, 计算所有变量的 Information Value"
   ]
  },
  {
   "cell_type": "markdown",
   "metadata": {},
   "source": [
    "# 计算总的坏用户和好用户"
   ]
  },
  {
   "cell_type": "code",
   "execution_count": 8,
   "metadata": {
    "collapsed": false
   },
   "outputs": [
    {
     "name": "stdout",
     "output_type": "stream",
     "text": [
      "Good: 1234434.0 \n",
      "Bad: 596052.0\n"
     ]
    }
   ],
   "source": [
    "count_1 = float(df_model.y_flag.sum())\n",
    "count_0 = df_model.y_flag.count() - float(df_model.y_flag.sum())\n",
    "print 'Good:',count_1, '\\n', 'Bad:', count_0\n",
    "# ------------------------------------------------------------------------------------------------------------------------------------------\n",
    "# 函数 rude_group_rate : 分组,输出 flag_rate, group_count, information_value, groups, var_woe\n",
    "def rude_group_rate(data, var, rank_group = 'null', set = 20):\n",
    "    if rank_group is 'null':\n",
    "        if len(data[var].unique()) > 6:\n",
    "            group_count = ceil(data[var].rank().max() / set)\n",
    "            rank_group = pd.Series([floor(i) for i in data[var].rank() / group_count])\n",
    "        else:\n",
    "            rank_group = data[var]\n",
    "    rank_group = rank_group.replace(np.nan, -1)\n",
    "    group_count = data.y_flag.groupby([rank_group]).count()\n",
    "    flag_rate = data.y_flag.groupby([rank_group]).sum() / data.y_flag.groupby([rank_group]).count()\n",
    "    percent_1 = data.y_flag.groupby([rank_group]).sum() / count_1\n",
    "    percent_0 = (data.y_flag.groupby([rank_group]).count() - data.y_flag.groupby([rank_group]).sum()) / count_0\n",
    "    information_value = sum([a*b for a,b in zip(list(percent_1 - percent_0), [log(i) for i in (percent_1 / percent_0)])])\n",
    "# ---------------------------------------------------------------------------------------------------------------\n",
    "    unique_rank = rank_group.unique()\n",
    "    group_woe = [log(percent_1[i] / percent_0[i]) for i in unique_rank]\n",
    "    var_woe = rank_group\n",
    "    for i,rank in enumerate(unique_rank):\n",
    "        var_woe = var_woe.replace(rank, group_woe[i])\n",
    "    woe = [round(k,2) for k in var_woe.groupby(var_woe).max()]\n",
    "    if len(data[var].unique()) < 10:\n",
    "        group = data[var].groupby(var_woe).unique()\n",
    "        groups = zip(group, woe)\n",
    "    else:\n",
    "        group_min = data[var].groupby(var_woe).min()\n",
    "        group_max = data[var].groupby(var_woe).max()\n",
    "        groups = zip(group_min, group_max, woe)\n",
    "    return flag_rate, group_count, rank_group, information_value, groups, var_woe"
   ]
  },
  {
   "cell_type": "code",
   "execution_count": 9,
   "metadata": {
    "collapsed": true
   },
   "outputs": [],
   "source": [
    "colnames = df_model.columns[~df_model.columns.isin(['uid', 'deal_orders_789m', 'noshow_orders_789m', 'y_flag',])]\n",
    "colnames = colnames[~colnames.isin(['gold_user_level'])]"
   ]
  },
  {
   "cell_type": "code",
   "execution_count": 17,
   "metadata": {
    "collapsed": true
   },
   "outputs": [],
   "source": [
    "IV = {}\n",
    "for colname in colnames:\n",
    "    information_value = rude_group_rate(data=df_model, var=colname)[3]\n",
    "    IV[colname] = information_value"
   ]
  },
  {
   "cell_type": "code",
   "execution_count": 20,
   "metadata": {
    "collapsed": true
   },
   "outputs": [],
   "source": [
    "IV['gold_user_level'] = 0.164618009459"
   ]
  },
  {
   "cell_type": "code",
   "execution_count": 21,
   "metadata": {
    "collapsed": true
   },
   "outputs": [
    {
     "name": "stdout",
     "output_type": "stream",
     "text": [
      "profile_advanced_date 1.07999820612\n",
      "ctrip_cash_amount 0.861795330258\n",
      "htl_consuming_capacity 0.712960156507\n",
      "avg_htl_star 0.680349479632\n",
      "htl_star_prefer 0.643619034316\n",
      "generous_stingy_tag 0.554954816095\n",
      "last_year_deal_amount 0.473575104422\n",
      "customer_value 0.43462950216\n",
      "last_6m_deal_amount 0.403178755565\n",
      "max_deal_price 0.39670770612\n",
      "recent20_noshow_rate 0.388134084453\n",
      "recent15_noshow_rate 0.374938193752\n",
      "last_year_deal_orders 0.374640161807\n",
      "age 0.357588956273\n",
      "recent10_noshow_rate 0.352243263074\n",
      "credit_card_succ_num 0.341008645887\n",
      "city_num 0.338948172533\n",
      "avg_deal_price 0.330575097131\n",
      "vip_grade 0.329835863785\n",
      "guarantee_last_year_deal_orders 0.328434130097\n",
      "provice_num 0.317207768492\n",
      "last_6m_deal_orders 0.312144059909\n",
      "fguarantee_last_year_deal_orders 0.311811119147\n",
      "recent5_noshow_rate 0.310625210049\n",
      "credit_card_succ_rate 0.301235569505\n",
      "htl_advanced_date 0.263931176055\n",
      "fguarantee_last_6m_deal_orders 0.256736535536\n",
      "guarantee_last_6m_deal_orders 0.233347775826\n",
      "real_name_certify 0.231051811529\n",
      "country_num 0.230490679943\n",
      "bound_valid_email 0.22770969511\n",
      "self_last_year_deal_orders 0.223754503184\n",
      "price_prefer 0.223354060137\n",
      "customer_eval 0.208857981151\n",
      "self_last_6m_deal_orders 0.194802428254\n",
      "flt_generous_index 0.178755729651\n",
      "online_last_year_deal_orders 0.162213443324\n",
      "base_active 0.160946005265\n",
      "gold_user_level 0.159626944918\n",
      "phone_type 0.150774007622\n",
      "ratio_business_htl 0.147434179723\n",
      "flt_price_sitivity 0.139797157258\n",
      "registerduration 0.128843865464\n",
      "online_last_6m_deal_orders 0.10544408028\n",
      "oversea_flag 0.0661628698085\n",
      "gender 0.0560039334046\n",
      "credit_card_fail_num 0.0514582994295\n",
      "last_year_complains 0.0452219365308\n",
      "last_year_cancel_orders 0.0383986255202\n",
      "guarantee_last_year_cancel_orders 0.0337812201769\n",
      "bound_cell_phone 0.0282798877259\n",
      "online_last_year_cancel_orders 0.0275928721015\n",
      "fguarantee_last_6m_noshow_orders 0.0269108358398\n",
      "fguarantee_last_year_noshow_orders 0.0261088966068\n",
      "last_6m_noshow_orders 0.0256614017669\n",
      "fguarantee_last_year_cancel_orders 0.0253484961885\n",
      "last_year_noshow_orders 0.0247246749732\n",
      "self_last_year_cancel_orders 0.0221598522502\n",
      "last_6m_cancel_orders 0.0201455620312\n",
      "offline_last_year_noshow_orders 0.0196636816516\n",
      "last_6m_complains 0.0191633453158\n",
      "guarantee_last_6m_cancel_orders 0.0177489281972\n",
      "offline_last_year_deal_orders 0.0172438089856\n",
      "offline_last_6m_noshow_orders 0.0155442251077\n",
      "min_deal_price 0.0148740967725\n",
      "online_last_6m_cancel_orders 0.0121982348855\n",
      "fguarantee_last_6m_cancel_orders 0.0120627142653\n",
      "self_last_6m_cancel_orders 0.011119424993\n",
      "offline_last_6m_deal_orders 0.00761259329727\n",
      "self_last_year_noshow_orders 0.00581861327834\n",
      "guarantee_last_year_noshow_orders 0.00212651368246\n",
      "self_last_6m_noshow_orders 0.00160386146708\n",
      "online_last_6m_noshow_orders 0.0011359052907\n",
      "guarantee_last_6m_noshow_orders 0.00105730051838\n",
      "offline_last_6m_cancel_orders 0.000526722983811\n",
      "offline_last_year_cancel_orders 0.000325041649923\n",
      "online_last_year_noshow_orders 6.34739193235e-05\n"
     ]
    }
   ],
   "source": [
    "IV_sort = sorted(IV.iteritems(), key = lambda d: d[1], reverse = True)\n",
    "for i, j in IV_sort:\n",
    "    print i,j"
   ]
  },
  {
   "cell_type": "markdown",
   "metadata": {},
   "source": [
    "## 人工初选, 并将重要的变量转为 WOE"
   ]
  },
  {
   "cell_type": "markdown",
   "metadata": {},
   "source": [
    "##### 'gold_user_level' 是字符串, 转化为 woe\n",
    "- G：普通会员,T：信用会员,N：新会员,F：NoShow会员"
   ]
  },
  {
   "cell_type": "code",
   "execution_count": 8,
   "metadata": {
    "collapsed": false
   },
   "outputs": [
    {
     "data": {
      "text/plain": [
       "gold_user_level\n",
       "       89511\n",
       "@       6779\n",
       "F         84\n",
       "G    1105982\n",
       "N     628130\n",
       "Name: gold_user_level, dtype: int64"
      ]
     },
     "execution_count": 8,
     "metadata": {},
     "output_type": "execute_result"
    }
   ],
   "source": [
    "df_model['gold_user_level'].groupby(df_model['gold_user_level']).count()"
   ]
  },
  {
   "cell_type": "code",
   "execution_count": 9,
   "metadata": {
    "collapsed": false
   },
   "outputs": [
    {
     "name": "stdout",
     "output_type": "stream",
     "text": [
      "                 flag_rate  group_count\n",
      "gold_user_level                        \n",
      "0                 0.545718        96374\n",
      "1                 0.746771      1105982\n",
      "2                 0.566644       628130 \n",
      "\n",
      "[(array([' ', '@', 'F'], dtype=object), -0.54), (array(['N'], dtype=object), -0.46), (array(['G'], dtype=object), 0.35)] \n",
      "\n",
      "IV: 0.164618009459\n"
     ]
    }
   ],
   "source": [
    "# 细分: ['N'], ['G'], ['F','@', ' ']\n",
    "group = df_model['gold_user_level'].replace(['F','@', ' '], 0).replace('G', 1).replace('N', 2)\n",
    "flag_rate, group_count, rank_group, information_value, groups, df_model['gold_user_level_woe'] = rude_group_rate(df_model, 'gold_user_level', rank_group=group)\n",
    "print pd.DataFrame({'flag_rate':flag_rate, 'group_count': group_count}), '\\n'\n",
    "print groups, '\\n'\n",
    "print 'IV:', information_value"
   ]
  },
  {
   "cell_type": "markdown",
   "metadata": {},
   "source": [
    "##------------------------------------------------------------------------------------------------------------------------------------"
   ]
  },
  {
   "cell_type": "markdown",
   "metadata": {},
   "source": [
    "#### 'credit_card_fail_num' \n",
    "- [0, 非0]\n",
    "- 刷卡失败次数多的用户反而好, 不符合实际, 删除该变量, 检查数据源头"
   ]
  },
  {
   "cell_type": "code",
   "execution_count": 26,
   "metadata": {
    "collapsed": true
   },
   "outputs": [
    {
     "name": "stdout",
     "output_type": "stream",
     "text": [
      "   flag_rate  group_count\n",
      "4   0.658486      1596709\n",
      "9   0.800519       224944 \n",
      "\n"
     ]
    },
    {
     "data": {
      "image/png": "[encoded data removed]",
      "text/plain": [
       "<matplotlib.figure.Figure at 0xa369cc0>"
      ]
     },
     "metadata": {},
     "output_type": "display_data"
    },
    {
     "name": "stdout",
     "output_type": "stream",
     "text": [
      "[(0, 0, -0.08), (1, 6222, 0.65)] \n",
      "\n",
      "IV: 0.0514493518595\n"
     ]
    }
   ],
   "source": [
    "flag_rate, group_count, rank_group, information_value, groups, df_model['credit_card_fail_num_woe'] = rude_group_rate(df_model, 'credit_card_fail_num',set = 10)\n",
    "print pd.DataFrame({'flag_rate':flag_rate, 'group_count': group_count}), '\\n'\n",
    "plt.figure()\n",
    "plt.bar(flag_rate.index, flag_rate.values)\n",
    "plt.show()\n",
    "print groups, '\\n'\n",
    "print 'IV:', information_value"
   ]
  },
  {
   "cell_type": "markdown",
   "metadata": {},
   "source": [
    "#####  last_year_cancel_orders\n",
    "- 不符合实际, 取消越多用户越好"
   ]
  },
  {
   "cell_type": "code",
   "execution_count": 27,
   "metadata": {
    "collapsed": true
   },
   "outputs": [
    {
     "name": "stdout",
     "output_type": "stream",
     "text": [
      "   flag_rate  group_count\n",
      "3   0.651355      1351489\n",
      "8   0.743853       242095\n",
      "9   0.750216       228069 \n",
      "\n"
     ]
    },
    {
     "data": {
      "image/png": "[encoded data removed]",
      "text/plain": [
       "<matplotlib.figure.Figure at 0x2a557b00>"
      ]
     },
     "metadata": {},
     "output_type": "display_data"
    },
    {
     "name": "stdout",
     "output_type": "stream",
     "text": [
      "[(0, 0, -0.11), (1, 1, 0.33), (2, 53863, 0.36)] \n",
      "\n",
      "IV: 0.0382894504728\n"
     ]
    }
   ],
   "source": [
    "flag_rate, group_count, rank_group, information_value, groups, df_model['last_year_cancel_orders_woe'] = rude_group_rate(df_model, 'last_year_cancel_orders',set=10)\n",
    "print pd.DataFrame({'flag_rate':flag_rate, 'group_count': group_count}), '\\n'\n",
    "plt.figure()\n",
    "plt.bar(flag_rate.index, flag_rate.values)\n",
    "plt.show()\n",
    "print groups, '\\n'\n",
    "print 'IV:', information_value"
   ]
  },
  {
   "cell_type": "markdown",
   "metadata": {},
   "source": [
    "##### last_year_complains \n",
    "- 不合实际, 投诉越多越好"
   ]
  },
  {
   "cell_type": "code",
   "execution_count": 28,
   "metadata": {
    "collapsed": true
   },
   "outputs": [
    {
     "name": "stdout",
     "output_type": "stream",
     "text": [
      "   flag_rate  group_count\n",
      "2   0.665920      1693029\n",
      "4   0.809033       128624 \n",
      "\n"
     ]
    },
    {
     "data": {
      "image/png": "[encoded data removed]",
      "text/plain": [
       "<matplotlib.figure.Figure at 0x2779f2e8>"
      ]
     },
     "metadata": {},
     "output_type": "display_data"
    },
    {
     "name": "stdout",
     "output_type": "stream",
     "text": [
      "[(0, 0, -0.05), (1, 53448, 0.71)] \n",
      "\n",
      "IV: 0.03232949224\n"
     ]
    }
   ],
   "source": [
    "flag_rate, group_count, rank_group, information_value, groups, df_model['last_year_complains_woe'] = rude_group_rate(df_model, 'last_year_complains',set=5)\n",
    "print pd.DataFrame({'flag_rate':flag_rate, 'group_count': group_count}), '\\n'\n",
    "plt.figure()\n",
    "plt.bar(flag_rate.index, flag_rate.values)\n",
    "plt.show()\n",
    "print groups, '\\n'\n",
    "print 'IV:', information_value"
   ]
  },
  {
   "cell_type": "markdown",
   "metadata": {},
   "source": [
    "##### guarantee_last_year_cancel_orders\n",
    "- 不合实际"
   ]
  },
  {
   "cell_type": "code",
   "execution_count": 29,
   "metadata": {
    "collapsed": true
   },
   "outputs": [
    {
     "name": "stdout",
     "output_type": "stream",
     "text": [
      "   flag_rate  group_count\n",
      "2   0.666600      1711021\n",
      "4   0.821797       110632 \n",
      "\n"
     ]
    },
    {
     "data": {
      "image/png": "[encoded data removed]",
      "text/plain": [
       "<matplotlib.figure.Figure at 0x15b829e8>"
      ]
     },
     "metadata": {},
     "output_type": "display_data"
    },
    {
     "name": "stdout",
     "output_type": "stream",
     "text": [
      "[(0, 0, -0.04), (1, 1002, 0.79)] \n",
      "\n",
      "IV: 0.0337812201769\n"
     ]
    }
   ],
   "source": [
    "flag_rate, group_count, rank_group, information_value, groups, df_model['guarantee_last_year_cancel_orders_woe'] = rude_group_rate(df_model, 'guarantee_last_year_cancel_orders',set=5)\n",
    "print pd.DataFrame({'flag_rate':flag_rate, 'group_count': group_count}), '\\n'\n",
    "plt.figure()\n",
    "plt.bar(flag_rate.index, flag_rate.values)\n",
    "plt.show()\n",
    "print groups, '\\n'\n",
    "print 'IV:', information_value"
   ]
  },
  {
   "cell_type": "markdown",
   "metadata": {},
   "source": [
    "##### online_last_year_cancel_orders\n",
    "- 不合实际"
   ]
  },
  {
   "cell_type": "code",
   "execution_count": 31,
   "metadata": {
    "collapsed": true
   },
   "outputs": [
    {
     "name": "stdout",
     "output_type": "stream",
     "text": [
      "   flag_rate  group_count\n",
      "2   0.667578      1714469\n",
      "4   0.811138       107184 \n",
      "\n"
     ]
    },
    {
     "data": {
      "image/png": "[encoded data removed]",
      "text/plain": [
       "<matplotlib.figure.Figure at 0x306b6a0>"
      ]
     },
     "metadata": {},
     "output_type": "display_data"
    },
    {
     "name": "stdout",
     "output_type": "stream",
     "text": [
      "[(0, 0, -0.04), (1, 36726, 0.72)] \n",
      "\n",
      "IV: 0.0275928721015\n"
     ]
    }
   ],
   "source": [
    "flag_rate, group_count, rank_group, information_value, groups, df_model['online_last_year_cancel_orders_woe'] = rude_group_rate(df_model, 'online_last_year_cancel_orders',set=5)\n",
    "print pd.DataFrame({'flag_rate':flag_rate, 'group_count': group_count}), '\\n'\n",
    "plt.figure()\n",
    "plt.bar(flag_rate.index, flag_rate.values)\n",
    "plt.show()\n",
    "print groups, '\\n'\n",
    "print 'IV:', information_value"
   ]
  },
  {
   "cell_type": "markdown",
   "metadata": {},
   "source": [
    "##### fguarantee_last_year_cancel_orders\n",
    "- 不合实际"
   ]
  },
  {
   "cell_type": "code",
   "execution_count": 32,
   "metadata": {
    "collapsed": true
   },
   "outputs": [
    {
     "name": "stdout",
     "output_type": "stream",
     "text": [
      "   flag_rate  group_count\n",
      "2   0.657393      1402021\n",
      "4   0.740396       224631\n",
      "5   0.735832       195001 \n",
      "\n"
     ]
    },
    {
     "data": {
      "image/png": "[encoded data removed]",
      "text/plain": [
       "<matplotlib.figure.Figure at 0x114f7518>"
      ]
     },
     "metadata": {},
     "output_type": "display_data"
    },
    {
     "name": "stdout",
     "output_type": "stream",
     "text": [
      "[(0, 0, -0.08), (2, 53861, 0.29), (1, 1, 0.31)] \n",
      "\n",
      "IV: 0.0252593001201\n"
     ]
    }
   ],
   "source": [
    "flag_rate, group_count, rank_group, information_value, groups, df_model['fguarantee_last_year_cancel_orders_woe']  = rude_group_rate(df_model, 'fguarantee_last_year_cancel_orders',set=6)\n",
    "print pd.DataFrame({'flag_rate':flag_rate, 'group_count': group_count}), '\\n'\n",
    "plt.figure()\n",
    "plt.bar(flag_rate.index, flag_rate.values)\n",
    "plt.show()\n",
    "print groups, '\\n'\n",
    "print 'IV:', information_value"
   ]
  },
  {
   "cell_type": "markdown",
   "metadata": {},
   "source": [
    "##### customer_eval\n",
    "- 携程用户给酒店做的评级, 删除该变量"
   ]
  },
  {
   "cell_type": "markdown",
   "metadata": {},
   "source": [
    "##------------------------------------------------------------------------------------------------------------------------------------"
   ]
  },
  {
   "cell_type": "markdown",
   "metadata": {},
   "source": [
    "#### 'gender'"
   ]
  },
  {
   "cell_type": "code",
   "execution_count": 10,
   "metadata": {
    "collapsed": false
   },
   "outputs": [
    {
     "name": "stdout",
     "output_type": "stream",
     "text": [
      "        flag_rate  group_count\n",
      "gender                        \n",
      "-1       0.448775       119347\n",
      " 0       0.722265       558598\n",
      " 1       0.674525      1152541 \n",
      "\n"
     ]
    },
    {
     "data": {
      "image/png": "[encoded data removed]",
      "text/plain": [
       "<matplotlib.figure.Figure at 0x3f26470>"
      ]
     },
     "metadata": {},
     "output_type": "display_data"
    },
    {
     "name": "stdout",
     "output_type": "stream",
     "text": [
      "[(array([-1], dtype=int64), -0.93), (array([1], dtype=int64), 0.0), (array([0], dtype=int64), 0.23)] \n",
      "\n",
      "IV: 0.0776925985425\n"
     ]
    }
   ],
   "source": [
    "flag_rate, group_count, rank_group, information_value, groups, df_model['gender_woe'] = rude_group_rate(df_model, 'gender')\n",
    "print pd.DataFrame({'flag_rate':flag_rate, 'group_count': group_count}), '\\n'\n",
    "plt.figure()\n",
    "plt.bar(flag_rate.index, flag_rate.values)\n",
    "plt.show()\n",
    "print groups, '\\n'\n",
    "print 'IV:', information_value"
   ]
  },
  {
   "cell_type": "markdown",
   "metadata": {},
   "source": [
    "##### 'credit_card_succ_num'"
   ]
  },
  {
   "cell_type": "code",
   "execution_count": 33,
   "metadata": {
    "collapsed": false
   },
   "outputs": [
    {
     "name": "stdout",
     "output_type": "stream",
     "text": [
      "   flag_rate  group_count\n",
      "1   0.559833       907864\n",
      "3   0.702162       142571\n",
      "4   0.752654       232140\n",
      "5   0.808974       270722\n",
      "6   0.854816       268356 \n",
      "\n"
     ]
    },
    {
     "data": {
      "image/png": "[encoded data removed]",
      "text/plain": [
       "<matplotlib.figure.Figure at 0x11503438>"
      ]
     },
     "metadata": {},
     "output_type": "display_data"
    },
    {
     "name": "stdout",
     "output_type": "stream",
     "text": [
      "[(0, 0, -0.5), (1, 1, 0.12), (2, 4, 0.38), (5, 13, 0.71), (14, 47226, 1.04)] \n",
      "\n",
      "IV: 0.337457305933\n"
     ]
    }
   ],
   "source": [
    "flag_rate, group_count, rank_group, information_value, groups, df_model['credit_card_succ_num_woe'] = rude_group_rate(df_model, 'credit_card_succ_num', set = 7)\n",
    "print pd.DataFrame({'flag_rate':flag_rate, 'group_count': group_count}), '\\n'\n",
    "plt.figure()\n",
    "plt.bar(flag_rate.index, flag_rate.values)\n",
    "plt.show()\n",
    "print groups, '\\n'\n",
    "print 'IV:', information_value"
   ]
  },
  {
   "cell_type": "markdown",
   "metadata": {},
   "source": [
    "##### credit_card_succ_rate"
   ]
  },
  {
   "cell_type": "code",
   "execution_count": 34,
   "metadata": {
    "collapsed": true
   },
   "outputs": [
    {
     "name": "stdout",
     "output_type": "stream",
     "text": [
      "     flag_rate  group_count\n",
      "-10   0.558798       898331\n",
      " 0    0.656760         9556\n",
      " 1    0.608247           97\n",
      " 2    0.620635          630\n",
      " 3    0.672860         1776\n",
      " 4    0.666286          875\n",
      " 5    0.702453        11168\n",
      " 6    0.734106        13370\n",
      " 7    0.751553        17545\n",
      " 8    0.787318        53761\n",
      " 9    0.847021       116166\n",
      " 10   0.786716       698378 \n",
      "\n"
     ]
    },
    {
     "data": {
      "image/png": "[encoded data removed]",
      "text/plain": [
       "<matplotlib.figure.Figure at 0x1a86e6d8>"
      ]
     },
     "metadata": {},
     "output_type": "display_data"
    },
    {
     "name": "stdout",
     "output_type": "stream",
     "text": [
      "[(-1.0, -1.0, -0.5), (0.10000000000000001, 0.19047619047619047, -0.3), (0.20000000000000001, 0.29545454545454553, -0.24), (0.0, 0.090909090909090925, -0.09), (0.40000000000000002, 0.49038461538461542, -0.04), (0.29999999999999999, 0.39534883720930231, -0.01), (0.5, 0.59615384615384615, 0.12), (0.59999999999999998, 0.69811320754716977, 0.28), (0.69999999999999996, 0.79807692307692313, 0.37), (1.0, 1.0, 0.57), (0.80000000000000004, 0.89932885906040272, 0.57), (0.90000000000000002, 0.99861111111111123, 0.98)] \n",
      "\n",
      "IV: 0.301284615431\n"
     ]
    }
   ],
   "source": [
    "group = pd.Series([floor(i*10) for i in df_model.credit_card_succ_rate])\n",
    "flag_rate, group_count, rank_group, information_value, groups, df_model['credit_card_succ_rate_woe'] = rude_group_rate(df_model, 'credit_card_succ_rate', rank_group=group)\n",
    "print pd.DataFrame({'flag_rate':flag_rate, 'group_count': group_count}), '\\n'\n",
    "plt.figure()\n",
    "plt.bar(flag_rate.index, flag_rate.values)\n",
    "plt.show()\n",
    "print groups, '\\n'\n",
    "print 'IV:', information_value"
   ]
  },
  {
   "cell_type": "code",
   "execution_count": 35,
   "metadata": {
    "collapsed": true
   },
   "outputs": [
    {
     "name": "stdout",
     "output_type": "stream",
     "text": [
      "    flag_rate  group_count\n",
      "-1   0.558798       898331\n",
      " 0   0.750860       108778\n",
      " 1   0.795316       814544 \n",
      "\n"
     ]
    },
    {
     "data": {
      "image/png": "[encoded data removed]",
      "text/plain": [
       "<matplotlib.figure.Figure at 0x229e9dd8>"
      ]
     },
     "metadata": {},
     "output_type": "display_data"
    },
    {
     "name": "stdout",
     "output_type": "stream",
     "text": [
      "[(-1.0, -1.0, -0.5), (0.0, 0.89932885906040272, 0.37), (0.90000000000000002, 1.0, 0.62)] \n",
      "\n",
      "IV: 0.290700822162\n"
     ]
    }
   ],
   "source": [
    "# 细分\n",
    "group = rank_group.replace(-10,-1).replace(range(9),0).replace([9,10],1)\n",
    "flag_rate, group_count, rank_group, information_value, groups, df_model['credit_card_succ_rate_woe']= rude_group_rate(df_model, 'credit_card_succ_rate', rank_group=group)\n",
    "print pd.DataFrame({'flag_rate':flag_rate, 'group_count': group_count}), '\\n'\n",
    "plt.figure()\n",
    "plt.bar(flag_rate.index, flag_rate.values)\n",
    "plt.show()\n",
    "print groups, '\\n'\n",
    "print 'IV:', information_value"
   ]
  },
  {
   "cell_type": "markdown",
   "metadata": {},
   "source": [
    "##### registerduration: 注册时长\n",
    "- 注册时常按照自然年分区"
   ]
  },
  {
   "cell_type": "code",
   "execution_count": 36,
   "metadata": {
    "collapsed": true
   },
   "outputs": [
    {
     "name": "stdout",
     "output_type": "stream",
     "text": [
      "    flag_rate  group_count\n",
      "0    0.571992       474370\n",
      "1    0.653357       282625\n",
      "2    0.681308       210843\n",
      "3    0.687099       183617\n",
      "4    0.712502       141382\n",
      "5    0.724133       123777\n",
      "6    0.739973       118076\n",
      "7    0.766783       100443\n",
      "8    0.787143        57292\n",
      "9    0.803507        42027\n",
      "10   0.814837        31799\n",
      "11   0.819150        22068\n",
      "12   0.827249        12764\n",
      "13   0.836959        11445\n",
      "14   0.863038         7754\n",
      "15   0.903720         1371 \n",
      "\n"
     ]
    },
    {
     "data": {
      "image/png": "[encoded data removed]",
      "text/plain": [
       "<matplotlib.figure.Figure at 0x15d3a2b0>"
      ]
     },
     "metadata": {},
     "output_type": "display_data"
    },
    {
     "name": "stdout",
     "output_type": "stream",
     "text": [
      "[(0, 365, -0.45), (366, 730, -0.1), (731, 1095, 0.02), (1096, 1460, 0.05), (1461, 1825, 0.17), (1826, 2190, 0.23), (2191, 2555, 0.31), (2556, 2920, 0.45), (2921, 3285, 0.57), (3286, 3650, 0.67), (3651, 4015, 0.75), (4016, 4380, 0.78), (4381, 4745, 0.83), (4746, 5110, 0.9), (5111, 5475, 1.11), (5476, 5762, 1.5)] \n",
      "\n",
      "IV: 0.124910975902\n"
     ]
    }
   ],
   "source": [
    "group = pd.Series([floor(i/365.01) for i in df_model.registerduration])\n",
    "flag_rate, group_count, rank_group, information_value, groups, df_model['registerduration_woe'] = rude_group_rate(df_model, 'registerduration', rank_group = group)\n",
    "print pd.DataFrame({'flag_rate':flag_rate, 'group_count': group_count}), '\\n'\n",
    "plt.figure()\n",
    "plt.bar(flag_rate.index, flag_rate.values)\n",
    "plt.show()\n",
    "print groups, '\\n'\n",
    "print 'IV:', information_value"
   ]
  },
  {
   "cell_type": "code",
   "execution_count": 37,
   "metadata": {
    "collapsed": true
   },
   "outputs": [
    {
     "name": "stdout",
     "output_type": "stream",
     "text": [
      "   flag_rate  group_count\n",
      "0   0.571992       474370\n",
      "1   0.653357       282625\n",
      "2   0.684003       394460\n",
      "3   0.724722       383235\n",
      "4   0.794322       286963 \n",
      "\n"
     ]
    },
    {
     "data": {
      "image/png": "[encoded data removed]",
      "text/plain": [
       "<matplotlib.figure.Figure at 0x15d3a198>"
      ]
     },
     "metadata": {},
     "output_type": "display_data"
    },
    {
     "name": "stdout",
     "output_type": "stream",
     "text": [
      "[(0, 365, -0.45), (366, 730, -0.1), (731, 1460, 0.04), (1461, 2555, 0.23), (2556, 5762, 0.62)] \n",
      "\n",
      "IV: 0.120291430327\n"
     ]
    }
   ],
   "source": [
    "#细分 : [-1,0] [1] [2,3] [4,5,6] [7,8,9,10,11,12,13]\n",
    "group = rank_group.replace([-1,0],0).replace([2,3],2).replace([4,5,6],3).replace([7,8,9,10,11,12,13,14,15,16,17,18,19,20],4)\n",
    "flag_rate, group_count, rank_group, information_value, groups, df_model['registerduration_woe'] = rude_group_rate(df_model, 'registerduration', rank_group = group)\n",
    "print pd.DataFrame({'flag_rate':flag_rate, 'group_count': group_count}), '\\n'\n",
    "plt.figure()\n",
    "plt.bar(flag_rate.index, flag_rate.values)\n",
    "plt.show()\n",
    "print groups, '\\n'\n",
    "print 'IV:', information_value"
   ]
  },
  {
   "cell_type": "markdown",
   "metadata": {},
   "source": [
    "##### htl_advanced_date --提前预订天数"
   ]
  },
  {
   "cell_type": "code",
   "execution_count": 56,
   "metadata": {
    "collapsed": true
   },
   "outputs": [
    {
     "name": "stdout",
     "output_type": "stream",
     "text": [
      "   flag_rate  group_count\n",
      "0   0.498378       392152\n",
      "1   0.627119       333999\n",
      "2   0.719418       365262\n",
      "3   0.761577       359479\n",
      "4   0.782280       370761 \n",
      "\n"
     ]
    },
    {
     "data": {
      "image/png": "[encoded data removed]",
      "text/plain": [
       "<matplotlib.figure.Figure at 0x1ac620f0>"
      ]
     },
     "metadata": {},
     "output_type": "display_data"
    },
    {
     "name": "stdout",
     "output_type": "stream",
     "text": [
      "[(-1.0, -1.0, -0.74), (0.0, 0.24882629107981225, -0.22), (0.25, 1.1984126984126984, 0.21), (1.2, 3.993269230769231, 0.43), (4.0, 296.5294117647058, 0.54)] \n",
      "\n",
      "IV: 0.233067039724\n"
     ]
    }
   ],
   "source": [
    "flag_rate, group_count, rank_group, information_value, groups, df_model['htl_advanced_date_woe'] = rude_group_rate(df_model, 'htl_advanced_date', set = 5)\n",
    "print pd.DataFrame({'flag_rate':flag_rate, 'group_count': group_count}), '\\n'\n",
    "plt.figure()\n",
    "plt.bar(flag_rate.index, flag_rate.values)\n",
    "plt.show()\n",
    "print groups, '\\n'\n",
    "print 'IV:', information_value"
   ]
  },
  {
   "cell_type": "markdown",
   "metadata": {},
   "source": [
    "##### profile_advanced_date  -- 小于 0 的用户占比比较多"
   ]
  },
  {
   "cell_type": "code",
   "execution_count": 39,
   "metadata": {
    "collapsed": false
   },
   "outputs": [
    {
     "data": {
      "text/plain": [
       "156625"
      ]
     },
     "execution_count": 39,
     "metadata": {},
     "output_type": "execute_result"
    }
   ],
   "source": [
    "sum(df_model.profile_advanced_date < 0 )"
   ]
  },
  {
   "cell_type": "code",
   "execution_count": 59,
   "metadata": {
    "collapsed": false
   },
   "outputs": [],
   "source": [
    "aa = pd.Series(df_model.profile_advanced_date.unique())\n",
    "aa = list(aa[aa<0])\n",
    "profile_advanced_date = df_model['profile_advanced_date'].replace(aa, np.nan)\n",
    "group_count = ceil(profile_advanced_date.rank().max() / 10)\n",
    "group = pd.Series([floor(i) for i in profile_advanced_date.rank() / group_count])\n",
    "del profile_advanced_date\n",
    "del group_count\n",
    "del aa"
   ]
  },
  {
   "cell_type": "code",
   "execution_count": 60,
   "metadata": {
    "collapsed": true
   },
   "outputs": [
    {
     "name": "stdout",
     "output_type": "stream",
     "text": [
      "    flag_rate  group_count\n",
      "-1   0.191017       156625\n",
      " 0   0.433152       170910\n",
      " 1   0.750667       162241\n",
      " 2   0.706449       164234\n",
      " 3   0.768468       154700\n",
      " 4   0.682804       174589\n",
      " 5   0.732683       172451\n",
      " 6   0.760358       166348\n",
      " 7   0.779652       167263\n",
      " 8   0.797046       165796\n",
      " 9   0.818284       166496 \n",
      "\n"
     ]
    },
    {
     "data": {
      "image/png": "[encoded data removed]",
      "text/plain": [
       "<matplotlib.figure.Figure at 0x2a6aa780>"
      ]
     },
     "metadata": {},
     "output_type": "display_data"
    },
    {
     "name": "stdout",
     "output_type": "stream",
     "text": [
      "[(-77.0, -0.0018018018018018016, -2.18), (0.0, 0.0, -1.0), (1.0, 1.4970414201183433, 0.03), (0.28019323671497592, 0.57077625570776258, 0.14), (1.5, 2.2857142857142856, 0.27), (0.0026809651474530827, 0.28000000000000003, 0.37), (2.2868217054263567, 3.5446428571428568, 0.42), (0.5714285714285714, 0.99630996309963094, 0.46), (3.5454545454545454, 5.6666666666666679, 0.53), (5.668292682926829, 10.210526315789474, 0.63), (10.211267605633802, 199.0, 0.77)] \n",
      "\n",
      "IV: 0.670864681914\n"
     ]
    }
   ],
   "source": [
    "flag_rate, group_count, rank_group, information_value, groups, df_model['profile_advanced_date_woe'] = rude_group_rate(df_model, 'profile_advanced_date',rank_group=group)\n",
    "print pd.DataFrame({'flag_rate':flag_rate, 'group_count': group_count}), '\\n'\n",
    "plt.figure()\n",
    "plt.bar(flag_rate.index, flag_rate.values)\n",
    "plt.show()\n",
    "print groups, '\\n'\n",
    "print 'IV:', information_value"
   ]
  },
  {
   "cell_type": "code",
   "execution_count": 61,
   "metadata": {
    "collapsed": true
   },
   "outputs": [
    {
     "name": "stdout",
     "output_type": "stream",
     "text": [
      "    flag_rate  group_count\n",
      "-1   0.191017       156625\n",
      " 0   0.587779       333151\n",
      " 1   0.717525       493523\n",
      " 2   0.757304       506062\n",
      " 3   0.807687       332292 \n",
      "\n"
     ]
    },
    {
     "data": {
      "image/png": "[encoded data removed]",
      "text/plain": [
       "<matplotlib.figure.Figure at 0x11afe438>"
      ]
     },
     "metadata": {},
     "output_type": "display_data"
    },
    {
     "name": "stdout",
     "output_type": "stream",
     "text": [
      "[(-77.0, -0.0018018018018018016, -2.18), (0.0, 0.28000000000000003, -0.38), (0.28019323671497592, 1.4970414201183433, 0.2), (1.5, 5.6666666666666679, 0.4), (5.668292682926829, 199.0, 0.7)] \n",
      "\n",
      "IV: 0.571225004696\n"
     ]
    }
   ],
   "source": [
    "group = rank_group.replace([0,1],0).replace([2,3,4],1).replace([5,6,7],2).replace([8,9],3)\n",
    "flag_rate, group_count, rank_group, information_value, groups, df_model['profile_advanced_date_woe'] = rude_group_rate(df_model, 'profile_advanced_date',rank_group=group)\n",
    "print pd.DataFrame({'flag_rate':flag_rate, 'group_count': group_count}), '\\n'\n",
    "plt.figure()\n",
    "plt.bar(flag_rate.index, flag_rate.values)\n",
    "plt.show()\n",
    "print groups, '\\n'\n",
    "print 'IV:', information_value"
   ]
  },
  {
   "cell_type": "markdown",
   "metadata": {},
   "source": [
    "##### avg_htl_star"
   ]
  },
  {
   "cell_type": "code",
   "execution_count": 62,
   "metadata": {
    "collapsed": true
   },
   "outputs": [
    {
     "name": "stdout",
     "output_type": "stream",
     "text": [
      "    flag_rate  group_count\n",
      "-1   0.009662        24425\n",
      " 0   0.256494        15322\n",
      " 1   0.680140        45373\n",
      " 2   0.561682       535643\n",
      " 3   0.730238       624269\n",
      " 4   0.779406       531683\n",
      " 5   0.563755        44938 \n",
      "\n"
     ]
    },
    {
     "data": {
      "image/png": "[encoded data removed]",
      "text/plain": [
       "<matplotlib.figure.Figure at 0x27532550>"
      ]
     },
     "metadata": {},
     "output_type": "display_data"
    },
    {
     "name": "stdout",
     "output_type": "stream",
     "text": [
      "[(-1.0, -1.0, -5.37), (0.0, 0.97297297297297303, -1.8), (2.0, 2.9960000000000004, -0.49), (5.0, 5.0, -0.48), (1.0, 1.9960474308300395, 0.02), (3.0, 3.9978880675818376, 0.26), (4.0, 4.9948320413436695, 0.53)] \n",
      "\n",
      "IV: 0.423428801703\n"
     ]
    }
   ],
   "source": [
    "# 粗分: [nan] 0 1 2 3 4 5\n",
    "group = pd.Series([floor(i) for i in df_model['avg_htl_star']])\n",
    "flag_rate, group_count, rank_group, information_value, groups, df_model['avg_htl_star_woe'] = rude_group_rate(df_model, 'avg_htl_star', rank_group = group)\n",
    "print pd.DataFrame({'flag_rate':flag_rate, 'group_count': group_count}), '\\n'\n",
    "plt.figure()\n",
    "plt.bar(flag_rate.index, flag_rate.values)\n",
    "plt.show()\n",
    "print groups, '\\n'\n",
    "print 'IV:', information_value"
   ]
  },
  {
   "cell_type": "code",
   "execution_count": 63,
   "metadata": {
    "collapsed": true
   },
   "outputs": [
    {
     "name": "stdout",
     "output_type": "stream",
     "text": [
      "   flag_rate  group_count\n",
      "0   0.411490        85120\n",
      "1   0.561682       535643\n",
      "2   0.730238       624269\n",
      "3   0.762600       576621 \n",
      "\n"
     ]
    },
    {
     "data": {
      "image/png": "[encoded data removed]",
      "text/plain": [
       "<matplotlib.figure.Figure at 0x2ad9de80>"
      ]
     },
     "metadata": {},
     "output_type": "display_data"
    },
    {
     "name": "stdout",
     "output_type": "stream",
     "text": [
      "[(-1.0, 1.9960474308300395, -1.09), (2.0, 2.9960000000000004, -0.49), (3.0, 3.9978880675818376, 0.26), (4.0, 5.0, 0.43)] \n",
      "\n",
      "IV: 0.212616298212\n"
     ]
    }
   ],
   "source": [
    "# 细分: [-1,0,1] [2] [3] [4,5]\n",
    "group = rank_group.replace([-1,0,1],0).replace(2,1).replace(3,2).replace([4,5],3)\n",
    "flag_rate, group_count, rank_group, information_value, groups, df_model['avg_htl_star_woe'] = rude_group_rate(df_model, 'avg_htl_star', rank_group = group)\n",
    "print pd.DataFrame({'flag_rate':flag_rate, 'group_count': group_count}), '\\n'\n",
    "plt.figure()\n",
    "plt.bar(flag_rate.index, flag_rate.values)\n",
    "plt.show()\n",
    "print groups, '\\n'\n",
    "print 'IV:', information_value"
   ]
  },
  {
   "cell_type": "markdown",
   "metadata": {},
   "source": [
    "##### Htl_Star_Prefer"
   ]
  },
  {
   "cell_type": "code",
   "execution_count": 12,
   "metadata": {
    "collapsed": true
   },
   "outputs": [
    {
     "name": "stdout",
     "output_type": "stream",
     "text": [
      "   flag_rate  group_count\n",
      "0   0.536805        83861\n",
      "1   0.400890       275160\n",
      "2   0.684892       180354\n",
      "3   0.591351       193873\n",
      "4   0.770506       165255\n",
      "5   0.757539       179769\n",
      "6   0.817051       165106\n",
      "7   0.664516       194215\n",
      "8   0.817490       183163\n",
      "9   0.800321       200897 \n",
      "\n"
     ]
    },
    {
     "data": {
      "image/png": "[encoded data removed]",
      "text/plain": [
       "<matplotlib.figure.Figure at 0xf5f85c0>"
      ]
     },
     "metadata": {},
     "output_type": "display_data"
    },
    {
     "name": "stdout",
     "output_type": "stream",
     "text": [
      "[(40.0, 45.439999999999998, -1.14), (-1.0, 39.920000000000002, -0.59), (54.310000000000002, 60.0, -0.37), (80.0, 83.799999999999997, -0.05), (45.450000000000003, 54.289999999999999, 0.04), (67.780000000000001, 73.739999999999995, 0.4), (60.060000000000002, 67.769999999999996, 0.48), (90.060000000000002, 100.0, 0.65), (73.75, 79.959999999999994, 0.76), (83.810000000000002, 90.0, 0.76)] \n",
      "\n",
      "IV: 0.416845712707\n"
     ]
    }
   ],
   "source": [
    "flag_rate, group_count, rank_group, information_value, groups, df_model['htl_dtar_prefer_woe'] = rude_group_rate(df_model, 'htl_star_prefer',set=10)\n",
    "print pd.DataFrame({'flag_rate':flag_rate, 'group_count': group_count}), '\\n'\n",
    "plt.figure()\n",
    "plt.bar(flag_rate.index, flag_rate.values)\n",
    "plt.show()\n",
    "print groups, '\\n'\n",
    "print 'IV:', information_value"
   ]
  },
  {
   "cell_type": "code",
   "execution_count": 10,
   "metadata": {
    "collapsed": true
   },
   "outputs": [
    {
     "name": "stdout",
     "output_type": "stream",
     "text": [
      "   flag_rate  group_count\n",
      "0   0.432638       359021\n",
      "1   0.636432       374227\n",
      "2   0.748882       704345\n",
      "3   0.808509       384060 \n",
      "\n"
     ]
    },
    {
     "data": {
      "image/png": "[encoded data removed]",
      "text/plain": [
       "<matplotlib.figure.Figure at 0x1bbeff98>"
      ]
     },
     "metadata": {},
     "output_type": "display_data"
    },
    {
     "name": "stdout",
     "output_type": "stream",
     "text": [
      "[(-1.0, 45.439999999999998, -1.01), (45.450000000000003, 60.0, -0.18), (60.060000000000002, 83.799999999999997, 0.36), (83.810000000000002, 100.0, 0.7)] \n",
      "\n",
      "IV: 0.362812997878\n"
     ]
    }
   ],
   "source": [
    "group=rank_group.replace([0,1],0).replace([2,3],1).replace([4,5,6,7],2).replace([8,9],3)\n",
    "flag_rate, group_count, rank_group, information_value, groups, df_model['htl_star_prefer_woe'] = rude_group_rate(df_model, 'htl_star_prefer',rank_group=group)\n",
    "print pd.DataFrame({'flag_rate':flag_rate, 'group_count': group_count}), '\\n'\n",
    "plt.figure()\n",
    "plt.bar(flag_rate.index, flag_rate.values)\n",
    "plt.show()\n",
    "print groups, '\\n'\n",
    "print 'IV:', information_value"
   ]
  },
  {
   "cell_type": "markdown",
   "metadata": {},
   "source": [
    "##### ctrip_cash_amount -- 携程余额"
   ]
  },
  {
   "cell_type": "code",
   "execution_count": 64,
   "metadata": {
    "collapsed": false
   },
   "outputs": [],
   "source": [
    "# 细分 [0] (0, 50] (50,200] (200,1000] 1000+\n",
    "round_cash = pd.Series([ceil(i) for i in df_model.ctrip_cash_amount])\n",
    "group = round_cash.replace(range(1,51),1).replace(range(51,201),2).replace(range(201,1001),3)\n",
    "aa = list(set(group) - {0,1,2,3})\n",
    "group = group.replace(aa, 4)\n",
    "del aa"
   ]
  },
  {
   "cell_type": "code",
   "execution_count": 65,
   "metadata": {
    "collapsed": true
   },
   "outputs": [
    {
     "name": "stdout",
     "output_type": "stream",
     "text": [
      "   flag_rate  group_count\n",
      "0   0.245177       101380\n",
      "1   0.502282       595869\n",
      "2   0.752125       537655\n",
      "3   0.849502       432265\n",
      "4   0.878661       154484 \n",
      "\n"
     ]
    },
    {
     "data": {
      "image/png": "[encoded data removed]",
      "text/plain": [
       "<matplotlib.figure.Figure at 0x21198d68>"
      ]
     },
     "metadata": {},
     "output_type": "display_data"
    },
    {
     "name": "stdout",
     "output_type": "stream",
     "text": [
      "[(0.0, 0.0, -1.86), (0.01, 50.0, -0.73), (50.009999999999998, 200.0, 0.37), (200.00999999999999, 1000.0, 1.0), (1000.02, 1067555.3700000001, 1.24)] \n",
      "\n",
      "IV: 0.715207868327\n"
     ]
    }
   ],
   "source": [
    "flag_rate, group_count, rank_group, information_value, groups, df_model['ctrip_cash_amount_woe'] = rude_group_rate(df_model, 'ctrip_cash_amount', rank_group = group)\n",
    "print pd.DataFrame({'flag_rate':flag_rate, 'group_count': group_count}), '\\n'\n",
    "plt.figure()\n",
    "plt.bar(flag_rate.index, flag_rate.values)\n",
    "plt.show()\n",
    "print groups, '\\n'\n",
    "print 'IV:', information_value"
   ]
  },
  {
   "cell_type": "markdown",
   "metadata": {},
   "source": [
    "##### htl_consuming_capacity"
   ]
  },
  {
   "cell_type": "code",
   "execution_count": 66,
   "metadata": {
    "collapsed": true
   },
   "outputs": [
    {
     "name": "stdout",
     "output_type": "stream",
     "text": [
      "                        flag_rate  group_count\n",
      "htl_consuming_capacity                        \n",
      "0                        0.427143       418403\n",
      "1                        0.684397       666550\n",
      "2                        0.777992       391468\n",
      "3                        0.829295       180147\n",
      "4                        0.863955       165085 \n",
      "\n"
     ]
    },
    {
     "data": {
      "image/png": "[encoded data removed]",
      "text/plain": [
       "<matplotlib.figure.Figure at 0x2ddb9cf8>"
      ]
     },
     "metadata": {},
     "output_type": "display_data"
    },
    {
     "name": "stdout",
     "output_type": "stream",
     "text": [
      "[(-1.0, 20.0, -1.03), (21.0, 40.0, 0.04), (41.0, 60.0, 0.52), (61.0, 80.0, 0.85), (81.0, 100.0, 1.11)] \n",
      "\n",
      "IV: 0.466033119573\n"
     ]
    }
   ],
   "source": [
    "#细分 [nan,0-20] 21-40 41-60 61-80 81-100\n",
    "group = df_model['htl_consuming_capacity'].replace(range(-10,21),0).replace(range(21,41),1).replace(range(41,61),2).replace(range(61,81),3).replace(range(81,101),4)\n",
    "flag_rate, group_count, rank_group, information_value, groups, df_model['htl_consuming_capacity_woe'] = rude_group_rate(df_model, 'htl_consuming_capacity',rank_group=group)\n",
    "print pd.DataFrame({'flag_rate':flag_rate, 'group_count': group_count}), '\\n'\n",
    "plt.figure()\n",
    "plt.bar(flag_rate.index, flag_rate.values)\n",
    "plt.show()\n",
    "print groups, '\\n'\n",
    "print 'IV:', information_value"
   ]
  },
  {
   "cell_type": "markdown",
   "metadata": {},
   "source": [
    "##### generous_stingy_tag"
   ]
  },
  {
   "cell_type": "code",
   "execution_count": 69,
   "metadata": {
    "collapsed": false
   },
   "outputs": [
    {
     "name": "stdout",
     "output_type": "stream",
     "text": [
      "                     flag_rate  group_count\n",
      "generous_stingy_tag                        \n",
      "0                     0.352623       275223\n",
      "1                     0.709172       609521\n",
      "2                     0.749462       936909 \n",
      "\n"
     ]
    },
    {
     "data": {
      "image/png": "[encoded data removed]",
      "text/plain": [
       "<matplotlib.figure.Figure at 0x27c319b0>"
      ]
     },
     "metadata": {},
     "output_type": "display_data"
    },
    {
     "name": "stdout",
     "output_type": "stream",
     "text": [
      "[(array([ 0, -1], dtype=int64), -1.34), (array([1], dtype=int64), 0.16), (array([2, 3], dtype=int64), 0.36)] \n",
      "\n",
      "IV: 0.369640270606\n"
     ]
    }
   ],
   "source": [
    "# 细分: [-1, 0], [1], [2, 3]\n",
    "group = rank_group.replace(3,2).replace(-1,0)\n",
    "flag_rate, group_count, rank_group, information_value, groups, df_model['generous_stingy_tag_woe'] = rude_group_rate(df_model, 'generous_stingy_tag', rank_group=group)\n",
    "print pd.DataFrame({'flag_rate':flag_rate, 'group_count': group_count}), '\\n'\n",
    "plt.figure()\n",
    "plt.bar(flag_rate.index, flag_rate.values)\n",
    "plt.show()\n",
    "print groups, '\\n'\n",
    "print 'IV:', information_value"
   ]
  },
  {
   "cell_type": "markdown",
   "metadata": {},
   "source": [
    "##### last_year_deal_amount"
   ]
  },
  {
   "cell_type": "code",
   "execution_count": 4,
   "metadata": {
    "collapsed": true
   },
   "outputs": [
    {
     "name": "stdout",
     "output_type": "stream",
     "text": [
      "   flag_rate  group_count\n",
      "0   0.515110       489078\n",
      "1   0.546449       239534\n",
      "2   0.676115       364367\n",
      "3   0.778114       364336\n",
      "4   0.875045       364338 \n",
      "\n"
     ]
    },
    {
     "data": {
      "image/png": "[encoded data removed]",
      "text/plain": [
       "<matplotlib.figure.Figure at 0xc39e048>"
      ]
     },
     "metadata": {},
     "output_type": "display_data"
    },
    {
     "name": "stdout",
     "output_type": "stream",
     "text": [
      "[(0.0, 0.0, -0.68), (1.0, 714.0, -0.55), (715.0, 2680.0, 0.0), (2681.0, 8211.0, 0.52), (8212.0, 669534257.38890028, 1.21)] \n",
      "\n",
      "IV: 0.444343576204\n"
     ]
    }
   ],
   "source": [
    "flag_rate, group_count, rank_group, information_value, groups, df_model['last_year_deal_amount_woe'] = rude_group_rate(df_model, 'last_year_deal_amount', set=5)\n",
    "print pd.DataFrame({'flag_rate':flag_rate, 'group_count': group_count}), '\\n'\n",
    "plt.figure()\n",
    "plt.bar(flag_rate.index, flag_rate.values)\n",
    "plt.show()\n",
    "print groups, '\\n'\n",
    "print 'IV:', information_value"
   ]
  },
  {
   "cell_type": "markdown",
   "metadata": {},
   "source": [
    "##### max_deal_price"
   ]
  },
  {
   "cell_type": "code",
   "execution_count": 11,
   "metadata": {
    "collapsed": true
   },
   "outputs": [
    {
     "name": "stdout",
     "output_type": "stream",
     "text": [
      "   flag_rate  group_count\n",
      "0   0.515110       489078\n",
      "1   0.560233       238772\n",
      "2   0.691356       364980\n",
      "3   0.776524       364535\n",
      "4   0.852032       364288 \n",
      "\n"
     ]
    },
    {
     "data": {
      "image/png": "[encoded data removed]",
      "text/plain": [
       "<matplotlib.figure.Figure at 0xc25fe48>"
      ]
     },
     "metadata": {},
     "output_type": "display_data"
    },
    {
     "name": "stdout",
     "output_type": "stream",
     "text": [
      "[(0.0, 0.0, -0.68), (1.0, 375.0, -0.49), (376.0, 947.0, 0.07), (948.0, 2185.0, 0.51), (2186.0, 264750.0, 1.02)] \n",
      "\n",
      "IV: 0.378314104365\n"
     ]
    }
   ],
   "source": [
    "flag_rate, group_count, rank_group, information_value, groups, df_model['max_deal_price_woe'] = rude_group_rate(df_model, 'max_deal_price',set=5)\n",
    "print pd.DataFrame({'flag_rate':flag_rate, 'group_count': group_count}), '\\n'\n",
    "plt.figure()\n",
    "plt.bar(flag_rate.index, flag_rate.values)\n",
    "plt.show()\n",
    "print groups, '\\n'\n",
    "print 'IV:', information_value"
   ]
  },
  {
   "cell_type": "markdown",
   "metadata": {},
   "source": [
    "##### customer_value "
   ]
  },
  {
   "cell_type": "code",
   "execution_count": 22,
   "metadata": {
    "collapsed": false
   },
   "outputs": [],
   "source": [
    "a = [i for i in df_model.customer_value.unique() if i<=40]\n",
    "b = [i for i in df_model.customer_value.unique() if 40<i<=60]\n",
    "c = [i for i in df_model.customer_value.unique() if 60<i<=80]\n",
    "d = [i for i in df_model.customer_value.unique() if i>80]\n",
    "group = df_model.customer_value.replace(a,0).replace(b,1).replace(c,2).replace(d,3)"
   ]
  },
  {
   "cell_type": "code",
   "execution_count": 23,
   "metadata": {
    "collapsed": true
   },
   "outputs": [
    {
     "name": "stdout",
     "output_type": "stream",
     "text": [
      "                flag_rate  group_count\n",
      "customer_value                        \n",
      "0                0.518832       559804\n",
      "1                0.649358       311817\n",
      "2                0.742275       508826\n",
      "3                0.817915       441206 \n",
      "\n"
     ]
    },
    {
     "data": {
      "image/png": "[encoded data removed]",
      "text/plain": [
       "<matplotlib.figure.Figure at 0x1657bbe0>"
      ]
     },
     "metadata": {},
     "output_type": "display_data"
    },
    {
     "name": "stdout",
     "output_type": "stream",
     "text": [
      "[(-1.0, 40.0, -0.66), (40.009999999999998, 60.0, -0.12), (60.009999999999998, 80.0, 0.32), (80.010000000000005, 100.0, 0.77)] \n",
      "\n",
      "IV: 0.295638450876\n"
     ]
    }
   ],
   "source": [
    "flag_rate, group_count, rank_group, information_value, groups, df_model['customer_value_woe'] = rude_group_rate(df_model, 'customer_value',rank_group=group)\n",
    "print pd.DataFrame({'flag_rate':flag_rate, 'group_count': group_count}), '\\n'\n",
    "plt.figure()\n",
    "plt.bar(flag_rate.index, flag_rate.values)\n",
    "plt.show()\n",
    "print groups, '\\n'\n",
    "print 'IV:', information_value"
   ]
  },
  {
   "cell_type": "markdown",
   "metadata": {},
   "source": [
    "##### last_year_deal_orders"
   ]
  },
  {
   "cell_type": "code",
   "execution_count": 24,
   "metadata": {
    "collapsed": true
   },
   "outputs": [
    {
     "name": "stdout",
     "output_type": "stream",
     "text": [
      "   flag_rate  group_count\n",
      "0   0.515110       489078\n",
      "1   0.590476       223833\n",
      "2   0.678158       390524\n",
      "3   0.766179       352377\n",
      "4   0.854374       365841 \n",
      "\n"
     ]
    },
    {
     "data": {
      "image/png": "[encoded data removed]",
      "text/plain": [
       "<matplotlib.figure.Figure at 0x1bf8af60>"
      ]
     },
     "metadata": {},
     "output_type": "display_data"
    },
    {
     "name": "stdout",
     "output_type": "stream",
     "text": [
      "[(0, 0, -0.68), (1, 1, -0.37), (2, 4, 0.01), (5, 10, 0.45), (11, 286043, 1.03)] \n",
      "\n",
      "IV: 0.355926993281\n"
     ]
    }
   ],
   "source": [
    "flag_rate, group_count, rank_group, information_value, groups, df_model['last_year_deal_orders_woe'] = rude_group_rate(df_model, 'last_year_deal_orders', set=5)\n",
    "print pd.DataFrame({'flag_rate':flag_rate, 'group_count': group_count}), '\\n'\n",
    "plt.figure()\n",
    "plt.bar(flag_rate.index, flag_rate.values)\n",
    "plt.show()\n",
    "print groups, '\\n'\n",
    "print 'IV:', information_value"
   ]
  },
  {
   "cell_type": "markdown",
   "metadata": {},
   "source": [
    "##### age\n",
    "- 认为 age < 0 & age > 100 的数据不正常\n",
    "- Hive 中已经做了处理"
   ]
  },
  {
   "cell_type": "code",
   "execution_count": 11,
   "metadata": {
    "collapsed": false
   },
   "outputs": [
    {
     "name": "stdout",
     "output_type": "stream",
     "text": [
      "    flag_rate  group_count\n",
      "2    0.452145       526543\n",
      "5    0.690292        24465\n",
      "6    0.683909       100003\n",
      "7    0.726123        88368\n",
      "8    0.747270       105116\n",
      "9    0.758789        54699\n",
      "10   0.769312       107513\n",
      "11   0.779823        62922\n",
      "12   0.783996       144789\n",
      "13   0.785755        58167\n",
      "14   0.791630       115549\n",
      "15   0.792021        95351\n",
      "16   0.788127        80317\n",
      "17   0.785521        72520\n",
      "18   0.776739       108223\n",
      "19   0.750992        85941 \n",
      "\n"
     ]
    },
    {
     "data": {
      "image/png": "[encoded data removed]",
      "text/plain": [
       "<matplotlib.figure.Figure at 0xc2bfe48>"
      ]
     },
     "metadata": {},
     "output_type": "display_data"
    },
    {
     "name": "stdout",
     "output_type": "stream",
     "text": [
      "[(-1.0, -1.0, -0.92), (20.0, 24.0, 0.04), (0.0, 19.0, 0.07), (25.0, 26.0, 0.25), (27.0, 28.0, 0.36), (48.0, 100.0, 0.38), (29.0, 29.0, 0.42), (30.0, 31.0, 0.48), (44.0, 47.0, 0.52), (32.0, 32.0, 0.54), (33.0, 34.0, 0.56), (42.0, 43.0, 0.57), (35.0, 35.0, 0.57), (40.0, 41.0, 0.59), (36.0, 37.0, 0.61), (38.0, 39.0, 0.61)] \n",
      "\n",
      "IV: 0.417368768036\n"
     ]
    }
   ],
   "source": [
    "flag_rate, group_count, rank_group, information_value, groups, df_model['age_woe'] = rude_group_rate(df_model, 'age', set = 20)\n",
    "print pd.DataFrame({'flag_rate':flag_rate, 'group_count': group_count}), '\\n'\n",
    "plt.figure()\n",
    "plt.bar(flag_rate.index, flag_rate.values)\n",
    "plt.show()\n",
    "print groups, '\\n'\n",
    "print 'IV:', information_value"
   ]
  },
  {
   "cell_type": "code",
   "execution_count": 12,
   "metadata": {
    "collapsed": false
   },
   "outputs": [
    {
     "name": "stdout",
     "output_type": "stream",
     "text": [
      "   flag_rate  group_count\n",
      "0   0.452145       526543\n",
      "1   0.685164       124468\n",
      "2   0.742279       248183\n",
      "3   0.779339       373391\n",
      "4   0.789741       363737\n",
      "5   0.765343       194164 \n",
      "\n"
     ]
    },
    {
     "data": {
      "image/png": "[encoded data removed]",
      "text/plain": [
       "<matplotlib.figure.Figure at 0x1a057b70>"
      ]
     },
     "metadata": {},
     "output_type": "display_data"
    },
    {
     "name": "stdout",
     "output_type": "stream",
     "text": [
      "[(-1.0, -1.0, -0.92), (0.0, 24.0, 0.05), (25.0, 29.0, 0.33), (44.0, 100.0, 0.45), (30.0, 35.0, 0.53), (36.0, 43.0, 0.6)] \n",
      "\n",
      "IV: 0.415972932049\n"
     ]
    }
   ],
   "source": [
    "# 细分: [-1], [0,26] [27,33] [34]\n",
    "group = rank_group.replace(2,0).replace([5,6],1).replace([7,8,9],2).replace([10,11,12,13],3).replace([14,15,16,17],4).replace([18,19],5)\n",
    "flag_rate, group_count, rank_group, information_value, groups, df_model['age_woe'] = rude_group_rate(df_model, 'age', rank_group = group)\n",
    "print pd.DataFrame({'flag_rate':flag_rate, 'group_count': group_count}), '\\n'\n",
    "plt.figure()\n",
    "plt.bar(flag_rate.index, flag_rate.values)\n",
    "plt.show()\n",
    "print groups, '\\n'\n",
    "print 'IV:', information_value"
   ]
  },
  {
   "cell_type": "markdown",
   "metadata": {},
   "source": [
    "##### city_num"
   ]
  },
  {
   "cell_type": "code",
   "execution_count": 29,
   "metadata": {
    "collapsed": true
   },
   "outputs": [
    {
     "name": "stdout",
     "output_type": "stream",
     "text": [
      "   flag_rate  group_count\n",
      "1   0.521298       499144\n",
      "3   0.619072       368193\n",
      "5   0.696909       247051\n",
      "6   0.747262       178418\n",
      "7   0.781183       133084\n",
      "8   0.820177       226528\n",
      "9   0.875049       169235 \n",
      "\n"
     ]
    },
    {
     "data": {
      "image/png": "[encoded data removed]",
      "text/plain": [
       "<matplotlib.figure.Figure at 0x17433400>"
      ]
     },
     "metadata": {},
     "output_type": "display_data"
    },
    {
     "name": "stdout",
     "output_type": "stream",
     "text": [
      "[(0, 0, -0.65), (1, 1, -0.25), (2, 2, 0.1), (3, 3, 0.35), (4, 4, 0.54), (5, 7, 0.78), (8, 1332, 1.21)] \n",
      "\n",
      "IV: 0.336438559747\n"
     ]
    }
   ],
   "source": [
    "flag_rate, group_count, rank_group, information_value, groups, df_model['city_num_woe'] = rude_group_rate(df_model, 'city_num', set=10)\n",
    "print pd.DataFrame({'flag_rate':flag_rate, 'group_count': group_count}), '\\n'\n",
    "plt.figure()\n",
    "plt.bar(flag_rate.index, flag_rate.values)\n",
    "plt.show()\n",
    "print groups, '\\n'\n",
    "print 'IV:', information_value"
   ]
  },
  {
   "cell_type": "code",
   "execution_count": 30,
   "metadata": {
    "collapsed": true
   },
   "outputs": [
    {
     "name": "stdout",
     "output_type": "stream",
     "text": [
      "   flag_rate  group_count\n",
      "0   0.521298       499144\n",
      "1   0.619072       368193\n",
      "2   0.696909       247051\n",
      "3   0.761754       311502\n",
      "4   0.843641       395763 \n",
      "\n"
     ]
    },
    {
     "data": {
      "image/png": "[encoded data removed]",
      "text/plain": [
       "<matplotlib.figure.Figure at 0x1ae81ac8>"
      ]
     },
     "metadata": {},
     "output_type": "display_data"
    },
    {
     "name": "stdout",
     "output_type": "stream",
     "text": [
      "[(0, 0, -0.65), (1, 1, -0.25), (2, 2, 0.1), (3, 4, 0.43), (5, 1332, 0.95)] \n",
      "\n",
      "IV: 0.326800542094\n"
     ]
    }
   ],
   "source": [
    "#细分 [1] [3] [5] [6,7] [8,9]\n",
    "group = rank_group.replace(1,0).replace(3,1).replace(5,2).replace([6,7],3).replace([8,9],4)\n",
    "flag_rate, group_count, rank_group, information_value, groups, df_model['city_num_woe'] = rude_group_rate(df_model, 'city_num', rank_group=group)\n",
    "print pd.DataFrame({'flag_rate':flag_rate, 'group_count': group_count}), '\\n'\n",
    "plt.figure()\n",
    "plt.bar(flag_rate.index, flag_rate.values)\n",
    "plt.show()\n",
    "print groups, '\\n'\n",
    "print 'IV:', information_value"
   ]
  },
  {
   "cell_type": "markdown",
   "metadata": {},
   "source": [
    "##### vip_grade"
   ]
  },
  {
   "cell_type": "code",
   "execution_count": 15,
   "metadata": {
    "collapsed": true
   },
   "outputs": [
    {
     "name": "stdout",
     "output_type": "stream",
     "text": [
      "           flag_rate  group_count\n",
      "vip_grade                        \n",
      "0           0.581749      1090675\n",
      "1           0.748726       300337\n",
      "2           0.817851       174544\n",
      "3           0.876888       264930 \n",
      "\n"
     ]
    },
    {
     "data": {
      "image/png": "[encoded data removed]",
      "text/plain": [
       "<matplotlib.figure.Figure at 0x138b5748>"
      ]
     },
     "metadata": {},
     "output_type": "display_data"
    },
    {
     "name": "stdout",
     "output_type": "stream",
     "text": [
      "[(array([ 0, -1], dtype=int64), -0.4), (array([10], dtype=int64), 0.36), (array([20], dtype=int64), 0.77), (array([30], dtype=int64), 1.24)] \n",
      "\n",
      "IV: 0.333343491721\n"
     ]
    }
   ],
   "source": [
    "group = df_model.vip_grade.replace(-1,0).replace(10,1).replace(20,2).replace(30,3)\n",
    "flag_rate, group_count, rank_group, information_value, groups, df_model['vip_grade_woe'] = rude_group_rate(df_model, 'vip_grade', rank_group=group)\n",
    "print pd.DataFrame({'flag_rate':flag_rate, 'group_count': group_count}), '\\n'\n",
    "plt.figure()\n",
    "plt.bar(flag_rate.index, flag_rate.values)\n",
    "plt.show()\n",
    "print groups, '\\n'\n",
    "print 'IV:', information_value"
   ]
  },
  {
   "cell_type": "markdown",
   "metadata": {},
   "source": [
    "##### member_level"
   ]
  },
  {
   "cell_type": "code",
   "execution_count": 16,
   "metadata": {
    "collapsed": false,
    "scrolled": false
   },
   "outputs": [
    {
     "name": "stdout",
     "output_type": "stream",
     "text": [
      "              flag_rate  group_count\n",
      "member_level                        \n",
      "0              0.574449      1050719\n",
      "1              0.746982       322171\n",
      "2              0.817489       186000\n",
      "3              0.876817       271596 \n",
      "\n"
     ]
    },
    {
     "data": {
      "image/png": "[encoded data removed]",
      "text/plain": [
       "<matplotlib.figure.Figure at 0x1f38b358>"
      ]
     },
     "metadata": {},
     "output_type": "display_data"
    },
    {
     "name": "stdout",
     "output_type": "stream",
     "text": [
      "[(array([-1,  0], dtype=int64), -0.43), (array([10], dtype=int64), 0.35), (array([20], dtype=int64), 0.77), (array([30], dtype=int64), 1.23)] \n",
      "\n",
      "IV: 0.352386838608\n"
     ]
    }
   ],
   "source": [
    "group = df_model.member_level.replace(-1,0).replace(10,1).replace(20,2).replace(30,3)\n",
    "flag_rate, group_count, rank_group, information_value, groups, df_model['member_level_woe'] = rude_group_rate(df_model, 'member_level', rank_group=group)\n",
    "print pd.DataFrame({'flag_rate':flag_rate, 'group_count': group_count}), '\\n'\n",
    "plt.figure()\n",
    "plt.bar(flag_rate.index, flag_rate.values)\n",
    "plt.show()\n",
    "print groups, '\\n'\n",
    "print 'IV:', information_value"
   ]
  },
  {
   "cell_type": "markdown",
   "metadata": {},
   "source": [
    "##### avg_deal_price"
   ]
  },
  {
   "cell_type": "code",
   "execution_count": 32,
   "metadata": {
    "collapsed": true
   },
   "outputs": [
    {
     "name": "stdout",
     "output_type": "stream",
     "text": [
      "   flag_rate  group_count\n",
      "0   0.515110       489078\n",
      "1   0.583999       239598\n",
      "2   0.702591       364290\n",
      "3   0.774121       364359\n",
      "4   0.827891       364328 \n",
      "\n"
     ]
    },
    {
     "data": {
      "image/png": "[encoded data removed]",
      "text/plain": [
       "<matplotlib.figure.Figure at 0x16f3d6d8>"
      ]
     },
     "metadata": {},
     "output_type": "display_data"
    },
    {
     "name": "stdout",
     "output_type": "stream",
     "text": [
      "[(-1.0, -1.0, -0.68), (1.0, 275.25, -0.4), (275.26315789473682, 541.9677419354839, 0.12), (542.0, 990.25, 0.5), (990.26086956521749, 63200.0, 0.84)] \n",
      "\n",
      "IV: 0.318359045248\n"
     ]
    }
   ],
   "source": [
    "flag_rate, group_count, rank_group, information_value, groups, df_model['avg_deal_price_woe'] = rude_group_rate(df_model, 'avg_deal_price',set=5)\n",
    "print pd.DataFrame({'flag_rate':flag_rate, 'group_count': group_count}), '\\n'\n",
    "plt.figure()\n",
    "plt.bar(flag_rate.index, flag_rate.values)\n",
    "plt.show()\n",
    "print groups, '\\n'\n",
    "print 'IV:', information_value"
   ]
  },
  {
   "cell_type": "markdown",
   "metadata": {},
   "source": [
    "##### real_name_certify"
   ]
  },
  {
   "cell_type": "code",
   "execution_count": 33,
   "metadata": {
    "collapsed": true
   },
   "outputs": [
    {
     "name": "stdout",
     "output_type": "stream",
     "text": [
      "                   flag_rate  group_count\n",
      "real_name_certify                        \n",
      "0                   0.607878      1241206\n",
      "1                   0.821748       580447 \n",
      "\n"
     ]
    },
    {
     "data": {
      "image/png": "[encoded data removed]",
      "text/plain": [
       "<matplotlib.figure.Figure at 0x1fd01c88>"
      ]
     },
     "metadata": {},
     "output_type": "display_data"
    },
    {
     "name": "stdout",
     "output_type": "stream",
     "text": [
      "[(array([0], dtype=int64), -0.3), (array([1], dtype=int64), 0.79)] \n",
      "\n",
      "IV: 0.231051811529\n"
     ]
    }
   ],
   "source": [
    "group = df_model.real_name_certify.replace(-1,0)\n",
    "flag_rate, group_count, rank_group, information_value, groups, df_model['real_name_certify_woe'] = rude_group_rate(df_model, 'real_name_certify',set=5)\n",
    "print pd.DataFrame({'flag_rate':flag_rate, 'group_count': group_count}), '\\n'\n",
    "plt.figure()\n",
    "plt.bar(flag_rate.index, flag_rate.values)\n",
    "plt.show()\n",
    "print groups, '\\n'\n",
    "print 'IV:', information_value"
   ]
  },
  {
   "cell_type": "markdown",
   "metadata": {},
   "source": [
    "##### country_num\n"
   ]
  },
  {
   "cell_type": "code",
   "execution_count": 34,
   "metadata": {
    "collapsed": true
   },
   "outputs": [
    {
     "name": "stdout",
     "output_type": "stream",
     "text": [
      "   flag_rate  group_count\n",
      "0   0.515110       489078\n",
      "3   0.724251      1244671\n",
      "4   0.888469        87904 \n",
      "\n"
     ]
    },
    {
     "data": {
      "image/png": "[encoded data removed]",
      "text/plain": [
       "<matplotlib.figure.Figure at 0x16f3d4a8>"
      ]
     },
     "metadata": {},
     "output_type": "display_data"
    },
    {
     "name": "stdout",
     "output_type": "stream",
     "text": [
      "[(0, 0, -0.68), (1, 1, 0.23), (2, 45, 1.34)] \n",
      "\n",
      "IV: 0.230490679943\n"
     ]
    }
   ],
   "source": [
    "flag_rate, group_count, rank_group, information_value, groups, df_model['country_num_woe'] = rude_group_rate(df_model, 'country_num', set=5)\n",
    "print pd.DataFrame({'flag_rate':flag_rate, 'group_count': group_count}), '\\n'\n",
    "plt.figure()\n",
    "plt.bar(flag_rate.index, flag_rate.values)\n",
    "plt.show()\n",
    "print groups, '\\n'\n",
    "print 'IV:', information_value"
   ]
  },
  {
   "cell_type": "markdown",
   "metadata": {},
   "source": [
    "##### bound_valid_email"
   ]
  },
  {
   "cell_type": "code",
   "execution_count": 35,
   "metadata": {
    "collapsed": true
   },
   "outputs": [
    {
     "name": "stdout",
     "output_type": "stream",
     "text": [
      "                   flag_rate  group_count\n",
      "bound_valid_email                        \n",
      "0                   0.549796       742775\n",
      "1                   0.762930      1078878 \n",
      "\n"
     ]
    },
    {
     "data": {
      "image/png": "[encoded data removed]",
      "text/plain": [
       "<matplotlib.figure.Figure at 0x160764e0>"
      ]
     },
     "metadata": {},
     "output_type": "display_data"
    },
    {
     "name": "stdout",
     "output_type": "stream",
     "text": [
      "[(array([0], dtype=int64), -0.54), (array([1], dtype=int64), 0.43)] \n",
      "\n",
      "IV: 0.22770969511\n"
     ]
    }
   ],
   "source": [
    "group = df_model.bound_valid_email.replace(-1,0)\n",
    "flag_rate, group_count, rank_group, information_value, groups, df_model['bound_valid_email_woe'] = rude_group_rate(df_model, 'bound_valid_email', rank_group=group)\n",
    "print pd.DataFrame({'flag_rate':flag_rate, 'group_count': group_count}), '\\n'\n",
    "plt.figure()\n",
    "plt.bar(flag_rate.index, flag_rate.values)\n",
    "plt.show()\n",
    "print groups, '\\n'\n",
    "print 'IV:', information_value"
   ]
  },
  {
   "cell_type": "markdown",
   "metadata": {},
   "source": [
    "##### flt_generous_index"
   ]
  },
  {
   "cell_type": "code",
   "execution_count": 178,
   "metadata": {
    "collapsed": false,
    "scrolled": true
   },
   "outputs": [
    {
     "name": "stdout",
     "output_type": "stream",
     "text": [
      "flt_generous_index\n",
      "-1    738318\n",
      " 0    772678\n",
      " 1     88245\n",
      " 2     19849\n",
      " 3    202335\n",
      "Name: flt_generous_index, dtype: int64\n",
      "nan:  0\n"
     ]
    }
   ],
   "source": [
    "print df_model['flt_generous_index'].groupby(df_model['flt_generous_index']).count()\n",
    "print 'nan: ', df_model['flt_generous_index'].isnull().sum()"
   ]
  },
  {
   "cell_type": "code",
   "execution_count": 39,
   "metadata": {
    "collapsed": true
   },
   "outputs": [
    {
     "name": "stdout",
     "output_type": "stream",
     "text": [
      "                    flag_rate  group_count\n",
      "flt_generous_index                        \n",
      "-1                   0.565338       738419\n",
      " 0                   0.741810       772761\n",
      " 1                   0.775542       310473 \n",
      "\n"
     ]
    },
    {
     "data": {
      "image/png": "[encoded data removed]",
      "text/plain": [
       "<matplotlib.figure.Figure at 0x1feae8d0>"
      ]
     },
     "metadata": {},
     "output_type": "display_data"
    },
    {
     "name": "stdout",
     "output_type": "stream",
     "text": [
      "[(array([-1], dtype=int64), -0.47), (array([0], dtype=int64), 0.32), (array([3, 1, 2], dtype=int64), 0.5)] \n",
      "\n",
      "IV: 0.176648921724\n"
     ]
    }
   ],
   "source": [
    "# 细分: ['NaN'] [0], [1,2,3]\n",
    "group = df_model['flt_generous_index'].replace([1,2,3],1)\n",
    "flag_rate, group_count, rank_group, information_value, groups, df_model['flt_generous_index_woe'] = rude_group_rate(df_model, 'flt_generous_index',rank_group=group)\n",
    "print pd.DataFrame({'flag_rate':flag_rate, 'group_count': group_count}), '\\n'\n",
    "plt.figure()\n",
    "plt.bar(flag_rate.index, flag_rate.values)\n",
    "plt.show()\n",
    "print groups, '\\n'\n",
    "print 'IV:', information_value"
   ]
  },
  {
   "cell_type": "markdown",
   "metadata": {},
   "source": [
    "##### base_active"
   ]
  },
  {
   "cell_type": "code",
   "execution_count": 41,
   "metadata": {
    "collapsed": true
   },
   "outputs": [
    {
     "name": "stdout",
     "output_type": "stream",
     "text": [
      "             flag_rate  group_count\n",
      "base_active                        \n",
      "-1            0.581758       776374\n",
      " 0            0.640288        39565\n",
      " 1            0.665826       156990\n",
      " 2            0.765808       848724 \n",
      "\n"
     ]
    },
    {
     "data": {
      "image/png": "[encoded data removed]",
      "text/plain": [
       "<matplotlib.figure.Figure at 0x19903ba8>"
      ]
     },
     "metadata": {},
     "output_type": "display_data"
    },
    {
     "name": "stdout",
     "output_type": "stream",
     "text": [
      "[(array([-1], dtype=int64), -0.41), (array([40], dtype=int64), -0.16), (array([60], dtype=int64), -0.05), (array([80], dtype=int64), 0.45)] \n",
      "\n",
      "IV: 0.160946005265\n"
     ]
    }
   ],
   "source": [
    "group = df_model.base_active.replace(40,0).replace(60,1).replace(80,2)\n",
    "flag_rate, group_count, rank_group, information_value, groups, df_model['base_active_woe'] = rude_group_rate(df_model, 'base_active',rank_group=group)\n",
    "print pd.DataFrame({'flag_rate':flag_rate, 'group_count': group_count}), '\\n'\n",
    "plt.figure()\n",
    "plt.bar(flag_rate.index, flag_rate.values)\n",
    "plt.show()\n",
    "print groups, '\\n'\n",
    "print 'IV:', information_value"
   ]
  },
  {
   "cell_type": "markdown",
   "metadata": {},
   "source": [
    "##### online_last_year_deal_orders"
   ]
  },
  {
   "cell_type": "code",
   "execution_count": 42,
   "metadata": {
    "collapsed": true
   },
   "outputs": [
    {
     "name": "stdout",
     "output_type": "stream",
     "text": [
      "   flag_rate  group_count\n",
      "3   0.628478      1317732\n",
      "7   0.743310       166481\n",
      "8   0.792604       148629\n",
      "9   0.856767       188811 \n",
      "\n"
     ]
    },
    {
     "data": {
      "image/png": "[encoded data removed]",
      "text/plain": [
       "<matplotlib.figure.Figure at 0xefb7e48>"
      ]
     },
     "metadata": {},
     "output_type": "display_data"
    },
    {
     "name": "stdout",
     "output_type": "stream",
     "text": [
      "[(0, 0, -0.21), (1, 1, 0.33), (2, 3, 0.61), (4, 222335, 1.05)] \n",
      "\n",
      "IV: 0.158519239839\n"
     ]
    }
   ],
   "source": [
    "flag_rate, group_count, rank_group, information_value, groups, df_model['online_last_year_deal_orders_woe'] = rude_group_rate(df_model, 'online_last_year_deal_orders',set=10)\n",
    "print pd.DataFrame({'flag_rate':flag_rate, 'group_count': group_count}), '\\n'\n",
    "plt.figure()\n",
    "plt.bar(flag_rate.index, flag_rate.values)\n",
    "plt.show()\n",
    "print groups, '\\n'\n",
    "print 'IV:', information_value"
   ]
  },
  {
   "cell_type": "markdown",
   "metadata": {},
   "source": [
    "##### phone_type"
   ]
  },
  {
   "cell_type": "code",
   "execution_count": 43,
   "metadata": {
    "collapsed": true
   },
   "outputs": [
    {
     "name": "stdout",
     "output_type": "stream",
     "text": [
      "            flag_rate  group_count\n",
      "phone_type                        \n",
      "-1           0.561724       639536\n",
      " 0           0.721791       715993\n",
      " 1           0.762550       466124 \n",
      "\n"
     ]
    },
    {
     "data": {
      "image/png": "[encoded data removed]",
      "text/plain": [
       "<matplotlib.figure.Figure at 0xf009e48>"
      ]
     },
     "metadata": {},
     "output_type": "display_data"
    },
    {
     "name": "stdout",
     "output_type": "stream",
     "text": [
      "[(array([-1], dtype=int64), -0.49), (array([40], dtype=int64), 0.22), (array([90], dtype=int64), 0.43)] \n",
      "\n",
      "IV: 0.150774007622\n"
     ]
    }
   ],
   "source": [
    "group = df_model.phone_type.replace(40,0).replace(90,1)\n",
    "flag_rate, group_count, rank_group, information_value, groups, df_model['phone_type_woe'] = rude_group_rate(df_model, 'phone_type',rank_group=group)\n",
    "print pd.DataFrame({'flag_rate':flag_rate, 'group_count': group_count}), '\\n'\n",
    "plt.figure()\n",
    "plt.bar(flag_rate.index, flag_rate.values)\n",
    "plt.show()\n",
    "print groups, '\\n'\n",
    "print 'IV:', information_value"
   ]
  },
  {
   "cell_type": "markdown",
   "metadata": {},
   "source": [
    "##### flt_price_sitivity"
   ]
  },
  {
   "cell_type": "code",
   "execution_count": 45,
   "metadata": {
    "collapsed": true
   },
   "outputs": [
    {
     "name": "stdout",
     "output_type": "stream",
     "text": [
      "                    flag_rate  group_count\n",
      "flt_price_sitivity                        \n",
      "-1                   0.594273       864276\n",
      " 0                   0.728625       627427\n",
      " 1                   0.789544       183544\n",
      " 2                   0.790897       146406 \n",
      "\n"
     ]
    },
    {
     "data": {
      "image/png": "[encoded data removed]",
      "text/plain": [
       "<matplotlib.figure.Figure at 0x18aa3f98>"
      ]
     },
     "metadata": {},
     "output_type": "display_data"
    },
    {
     "name": "stdout",
     "output_type": "stream",
     "text": [
      "[(array([-1], dtype=int64), -0.35), (array([0], dtype=int64), 0.25), (array([1], dtype=int64), 0.59), (array([3, 2], dtype=int64), 0.59)] \n",
      "\n",
      "IV: 0.139235290575\n"
     ]
    }
   ],
   "source": [
    "group = rank_group.replace([2,3],2)\n",
    "flag_rate, group_count, rank_group, information_value, groups, df_model['flt_price_sitivity_woe'] = rude_group_rate(df_model, 'flt_price_sitivity',rank_group=group)\n",
    "print pd.DataFrame({'flag_rate':flag_rate, 'group_count': group_count}), '\\n'\n",
    "plt.figure()\n",
    "plt.bar(flag_rate.index, flag_rate.values)\n",
    "plt.show()\n",
    "print groups, '\\n'\n",
    "print 'IV:', information_value"
   ]
  },
  {
   "cell_type": "markdown",
   "metadata": {},
   "source": [
    "##### ratio_business_htl"
   ]
  },
  {
   "cell_type": "code",
   "execution_count": 55,
   "metadata": {
    "collapsed": true
   },
   "outputs": [
    {
     "name": "stdout",
     "output_type": "stream",
     "text": [
      "     flag_rate  group_count\n",
      "-10   0.390713        53794\n",
      " 0    0.519864        82260\n",
      " 1    0.737408        90711\n",
      " 2    0.732053       174262\n",
      " 3    0.715849       217627\n",
      " 4    0.703605       336365\n",
      " 5    0.697005       454569\n",
      " 6    0.677302       302239\n",
      " 7    0.582059        88979\n",
      " 8    0.400647        17624\n",
      " 9    0.283270         1052\n",
      " 10   0.041916         2171 \n",
      "\n"
     ]
    },
    {
     "data": {
      "image/png": "[encoded data removed]",
      "text/plain": [
       "<matplotlib.figure.Figure at 0x19550f60>"
      ]
     },
     "metadata": {},
     "output_type": "display_data"
    },
    {
     "name": "stdout",
     "output_type": "stream",
     "text": [
      "[(1.0, 1.0, -3.86), (0.90000000000000002, 0.98999999999999999, -1.66), (-1.0, -1.0, -1.18), (0.80000000000000004, 0.89686730024639216, -1.14), (0.0, 0.099974321328157922, -0.66), (0.70003946639847314, 0.7996594778660614, -0.4), (0.60000582452050155, 0.69999999999999996, 0.01), (0.5, 0.59999999999999998, 0.1), (0.40000000000000002, 0.49999976425630782, 0.13), (0.30000164772884697, 0.39999194880049571, 0.19), (0.20000000000000001, 0.29999999999999999, 0.27), (0.10000000000000001, 0.19992094861660081, 0.3)] \n",
      "\n",
      "IV: 0.124059843496\n"
     ]
    }
   ],
   "source": [
    "group = pd.Series(floor(i/0.1) for i in df_model.ratio_business_htl)\n",
    "flag_rate, group_count, rank_group, information_value, groups, df_model['ratio_business_htl_woe']  = rude_group_rate(df_model, 'ratio_business_htl',rank_group=group)\n",
    "print pd.DataFrame({'flag_rate':flag_rate, 'group_count': group_count}), '\\n'\n",
    "plt.figure()\n",
    "plt.bar(flag_rate.index, flag_rate.values)\n",
    "plt.show()\n",
    "print groups, '\\n'\n",
    "print 'IV:', information_value"
   ]
  },
  {
   "cell_type": "code",
   "execution_count": 56,
   "metadata": {
    "collapsed": true
   },
   "outputs": [
    {
     "name": "stdout",
     "output_type": "stream",
     "text": [
      "   flag_rate  group_count\n",
      "0   0.576249       226765\n",
      "1   0.714071       728254\n",
      "2   0.697005       454569\n",
      "3   0.677302       302239\n",
      "4   0.539408       109826 \n",
      "\n"
     ]
    },
    {
     "data": {
      "image/png": "[encoded data removed]",
      "text/plain": [
       "<matplotlib.figure.Figure at 0x20e0a358>"
      ]
     },
     "metadata": {},
     "output_type": "display_data"
    },
    {
     "name": "stdout",
     "output_type": "stream",
     "text": [
      "[(0.70003946639847314, 1.0, -0.58), (-1.0, 0.19992094861660081, -0.43), (0.60000582452050155, 0.69999999999999996, 0.01), (0.5, 0.59999999999999998, 0.1), (0.20000000000000001, 0.49999976425630782, 0.18)] \n",
      "\n",
      "IV: 0.0608183870285\n"
     ]
    }
   ],
   "source": [
    "group = rank_group.replace([-10,0,1],0).replace([2,3,4],1).replace(5,2).replace(6,3).replace([7,8,9,10],4)\n",
    "flag_rate, group_count, rank_group, information_value, groups, df_model['ratio_business_htl_woe']  = rude_group_rate(df_model, 'ratio_business_htl',rank_group=group)\n",
    "print pd.DataFrame({'flag_rate':flag_rate, 'group_count': group_count}), '\\n'\n",
    "plt.figure()\n",
    "plt.bar(flag_rate.index, flag_rate.values)\n",
    "plt.show()\n",
    "print groups, '\\n'\n",
    "print 'IV:', information_value"
   ]
  },
  {
   "cell_type": "markdown",
   "metadata": {},
   "source": [
    "##### bound_cell_phone"
   ]
  },
  {
   "cell_type": "code",
   "execution_count": 57,
   "metadata": {
    "collapsed": true
   },
   "outputs": [
    {
     "name": "stdout",
     "output_type": "stream",
     "text": [
      "                  flag_rate  group_count\n",
      "bound_cell_phone                        \n",
      "0                  0.581664       251224\n",
      "1                  0.691120      1570429 \n",
      "\n"
     ]
    },
    {
     "data": {
      "image/png": "[encoded data removed]",
      "text/plain": [
       "<matplotlib.figure.Figure at 0x1ed0ca90>"
      ]
     },
     "metadata": {},
     "output_type": "display_data"
    },
    {
     "name": "stdout",
     "output_type": "stream",
     "text": [
      "[(array([ 0, -1], dtype=int64), -0.41), (array([1], dtype=int64), 0.07)] \n",
      "\n",
      "IV: 0.0282679208064\n"
     ]
    }
   ],
   "source": [
    "group = df_model.bound_cell_phone.replace(-1,0)\n",
    "flag_rate, group_count, rank_group, information_value, groups, df_model['bound_cell_phone_woe']  = rude_group_rate(df_model, 'bound_cell_phone',rank_group=group)\n",
    "print pd.DataFrame({'flag_rate':flag_rate, 'group_count': group_count}), '\\n'\n",
    "plt.figure()\n",
    "plt.bar(flag_rate.index, flag_rate.values)\n",
    "plt.show()\n",
    "print groups, '\\n'\n",
    "print 'IV:', information_value"
   ]
  },
  {
   "cell_type": "markdown",
   "metadata": {},
   "source": [
    "##### fguarantee_last_year_noshow_orders"
   ]
  },
  {
   "cell_type": "code",
   "execution_count": 58,
   "metadata": {
    "collapsed": true
   },
   "outputs": [
    {
     "name": "stdout",
     "output_type": "stream",
     "text": [
      "    flag_rate  group_count\n",
      "7    0.690111      1415912\n",
      "16   0.660204       249935\n",
      "18   0.622429        85380\n",
      "19   0.513958        70426 \n",
      "\n"
     ]
    },
    {
     "data": {
      "image/png": "[encoded data removed]",
      "text/plain": [
       "<matplotlib.figure.Figure at 0x1658b128>"
      ]
     },
     "metadata": {},
     "output_type": "display_data"
    },
    {
     "name": "stdout",
     "output_type": "stream",
     "text": [
      "[(3, 103907, -0.68), (2, 2, -0.24), (1, 1, -0.07), (0, 0, 0.07)] \n",
      "\n",
      "IV: 0.0261088966068\n"
     ]
    }
   ],
   "source": [
    "flag_rate, group_count, rank_group, information_value, groups, df_model['fguarantee_last_year_noshow_orders_woe'] = rude_group_rate(df_model, 'fguarantee_last_year_noshow_orders',set=20)\n",
    "print pd.DataFrame({'flag_rate':flag_rate, 'group_count': group_count}), '\\n'\n",
    "plt.figure()\n",
    "plt.bar(flag_rate.index, flag_rate.values)\n",
    "plt.show()\n",
    "print groups, '\\n'\n",
    "print 'IV:', information_value"
   ]
  },
  {
   "cell_type": "markdown",
   "metadata": {},
   "source": [
    "##### guarantee_last_year_deal_orders"
   ]
  },
  {
   "cell_type": "code",
   "execution_count": 59,
   "metadata": {
    "collapsed": true
   },
   "outputs": [
    {
     "name": "stdout",
     "output_type": "stream",
     "text": [
      "   flag_rate  group_count\n",
      "3   0.585564      1093115\n",
      "6   0.754933       288211\n",
      "8   0.819621       250262\n",
      "9   0.887560       190065 \n",
      "\n"
     ]
    },
    {
     "data": {
      "image/png": "[encoded data removed]",
      "text/plain": [
       "<matplotlib.figure.Figure at 0x1658bac8>"
      ]
     },
     "metadata": {},
     "output_type": "display_data"
    },
    {
     "name": "stdout",
     "output_type": "stream",
     "text": [
      "[(0, 0, -0.39), (1, 1, 0.39), (2, 3, 0.78), (4, 8763, 1.33)] \n",
      "\n",
      "IV: 0.323015893605\n"
     ]
    }
   ],
   "source": [
    "flag_rate, group_count, rank_group, information_value, groups, df_model['guarantee_last_year_deal_orders_woe'] = rude_group_rate(df_model, 'guarantee_last_year_deal_orders',set=10)\n",
    "print pd.DataFrame({'flag_rate':flag_rate, 'group_count': group_count}), '\\n'\n",
    "plt.figure()\n",
    "plt.bar(flag_rate.index, flag_rate.values)\n",
    "plt.show()\n",
    "print groups, '\\n'\n",
    "print 'IV:', information_value"
   ]
  },
  {
   "cell_type": "markdown",
   "metadata": {},
   "source": [
    "##### fguarantee_last_year_deal_orders"
   ]
  },
  {
   "cell_type": "code",
   "execution_count": 60,
   "metadata": {
    "collapsed": true
   },
   "outputs": [
    {
     "name": "stdout",
     "output_type": "stream",
     "text": [
      "   flag_rate  group_count\n",
      "0   0.537180       551299\n",
      "1   0.614314       243854\n",
      "2   0.682099       302424\n",
      "3   0.756271       357401\n",
      "4   0.842594       366675 \n",
      "\n"
     ]
    },
    {
     "data": {
      "image/png": "[encoded data removed]",
      "text/plain": [
       "<matplotlib.figure.Figure at 0x1c06a9b0>"
      ]
     },
     "metadata": {},
     "output_type": "display_data"
    },
    {
     "name": "stdout",
     "output_type": "stream",
     "text": [
      "[(0, 0, -0.59), (1, 1, -0.27), (2, 3, 0.03), (4, 8, 0.4), (9, 286038, 0.94)] \n",
      "\n",
      "IV: 0.295594862927\n"
     ]
    }
   ],
   "source": [
    "flag_rate, group_count, rank_group, information_value, groups, df_model['fguarantee_last_year_deal_orders_woe'] = rude_group_rate(df_model, 'fguarantee_last_year_deal_orders',set=5)\n",
    "print pd.DataFrame({'flag_rate':flag_rate, 'group_count': group_count}), '\\n'\n",
    "plt.figure()\n",
    "plt.bar(flag_rate.index, flag_rate.values)\n",
    "plt.show()\n",
    "print groups, '\\n'\n",
    "print 'IV:', information_value"
   ]
  },
  {
   "cell_type": "markdown",
   "metadata": {},
   "source": [
    "##### self_last_year_deal_orders "
   ]
  },
  {
   "cell_type": "code",
   "execution_count": 61,
   "metadata": {
    "collapsed": true
   },
   "outputs": [
    {
     "name": "stdout",
     "output_type": "stream",
     "text": [
      "   flag_rate  group_count\n",
      "2   0.596233       995647\n",
      "4   0.695610       169490\n",
      "5   0.734527       205716\n",
      "6   0.781958       232808\n",
      "7   0.856894       217992 \n",
      "\n"
     ]
    },
    {
     "data": {
      "image/png": "[encoded data removed]",
      "text/plain": [
       "<matplotlib.figure.Figure at 0x14784080>"
      ]
     },
     "metadata": {},
     "output_type": "display_data"
    },
    {
     "name": "stdout",
     "output_type": "stream",
     "text": [
      "[(0, 0, -0.35), (1, 1, 0.09), (2, 3, 0.28), (4, 8, 0.54), (9, 305, 1.05)] \n",
      "\n",
      "IV: 0.215770563255\n"
     ]
    }
   ],
   "source": [
    "flag_rate, group_count, rank_group, information_value, groups, df_model['self_last_year_deal_orders_woe'] = rude_group_rate(df_model, 'self_last_year_deal_orders',set=8)\n",
    "print pd.DataFrame({'flag_rate':flag_rate, 'group_count': group_count}), '\\n'\n",
    "plt.figure()\n",
    "plt.bar(flag_rate.index, flag_rate.values)\n",
    "plt.show()\n",
    "print groups, '\\n'\n",
    "print 'IV:', information_value"
   ]
  },
  {
   "cell_type": "markdown",
   "metadata": {},
   "source": [
    "##### last_year_noshow_orders"
   ]
  },
  {
   "cell_type": "code",
   "execution_count": 62,
   "metadata": {
    "collapsed": true
   },
   "outputs": [
    {
     "name": "stdout",
     "output_type": "stream",
     "text": [
      "    flag_rate  group_count\n",
      "7    0.689558      1410763\n",
      "16   0.662483       252811\n",
      "18   0.625437        86621\n",
      "19   0.518081        71458 \n",
      "\n"
     ]
    },
    {
     "data": {
      "image/png": "[encoded data removed]",
      "text/plain": [
       "<matplotlib.figure.Figure at 0x195339e8>"
      ]
     },
     "metadata": {},
     "output_type": "display_data"
    },
    {
     "name": "stdout",
     "output_type": "stream",
     "text": [
      "[(3, 103946, -0.66), (2, 2, -0.22), (1, 1, -0.06), (0, 0, 0.06)] \n",
      "\n",
      "IV: 0.0247246749732\n"
     ]
    }
   ],
   "source": [
    "flag_rate, group_count, rank_group, information_value, groups, df_model['last_year_noshow_orders_woe'] = rude_group_rate(df_model, 'last_year_noshow_orders',set=20)\n",
    "print pd.DataFrame({'flag_rate':flag_rate, 'group_count': group_count}), '\\n'\n",
    "plt.figure()\n",
    "plt.bar(flag_rate.index, flag_rate.values)\n",
    "plt.show()\n",
    "print groups, '\\n'\n",
    "print 'IV:', information_value"
   ]
  },
  {
   "cell_type": "markdown",
   "metadata": {},
   "source": [
    "##### fguarantee_last_6m_deal_orders"
   ]
  },
  {
   "cell_type": "code",
   "execution_count": 65,
   "metadata": {
    "collapsed": true
   },
   "outputs": [
    {
     "name": "stdout",
     "output_type": "stream",
     "text": [
      "   flag_rate  group_count\n",
      "1   0.567083       734729\n",
      "2   0.658114       275095\n",
      "3   0.708543       184377\n",
      "4   0.760696       301876\n",
      "5   0.840086       325576 \n",
      "\n"
     ]
    },
    {
     "data": {
      "image/png": "[encoded data removed]",
      "text/plain": [
       "<matplotlib.figure.Figure at 0x16f571d0>"
      ]
     },
     "metadata": {},
     "output_type": "display_data"
    },
    {
     "name": "stdout",
     "output_type": "stream",
     "text": [
      "[(0, 0, -0.47), (1, 1, -0.08), (2, 2, 0.15), (3, 5, 0.42), (6, 68342, 0.92)] \n",
      "\n",
      "IV: 0.247284814406\n"
     ]
    }
   ],
   "source": [
    "flag_rate, group_count, rank_group, information_value, groups, df_model['fguarantee_last_6m_deal_orders_woe'] = rude_group_rate(df_model, 'fguarantee_last_6m_deal_orders',set=6)\n",
    "print pd.DataFrame({'flag_rate':flag_rate, 'group_count': group_count}), '\\n'\n",
    "plt.figure()\n",
    "plt.bar(flag_rate.index, flag_rate.values)\n",
    "plt.show()\n",
    "print groups, '\\n'\n",
    "print 'IV:', information_value"
   ]
  },
  {
   "cell_type": "markdown",
   "metadata": {},
   "source": [
    "##### guarantee_last_6m_deal_orders"
   ]
  },
  {
   "cell_type": "code",
   "execution_count": 66,
   "metadata": {
    "collapsed": true
   },
   "outputs": [
    {
     "name": "stdout",
     "output_type": "stream",
     "text": [
      "    flag_rate  group_count\n",
      "7    0.615223      1286923\n",
      "15   0.785053       267187\n",
      "17   0.832005       123117\n",
      "18   0.860972        60664\n",
      "19   0.899191        83762 \n",
      "\n"
     ]
    },
    {
     "data": {
      "image/png": "[encoded data removed]",
      "text/plain": [
       "<matplotlib.figure.Figure at 0x16f57518>"
      ]
     },
     "metadata": {},
     "output_type": "display_data"
    },
    {
     "name": "stdout",
     "output_type": "stream",
     "text": [
      "[(0, 0, -0.27), (1, 1, 0.56), (2, 2, 0.86), (3, 3, 1.09), (4, 6174, 1.45)] \n",
      "\n",
      "IV: 0.233347775826\n"
     ]
    }
   ],
   "source": [
    "flag_rate, group_count, rank_group, information_value, groups, df_model['guarantee_last_6m_deal_orders_woe'] = rude_group_rate(df_model, 'guarantee_last_6m_deal_orders',set=20)\n",
    "print pd.DataFrame({'flag_rate':flag_rate, 'group_count': group_count}), '\\n'\n",
    "plt.figure()\n",
    "plt.bar(flag_rate.index, flag_rate.values)\n",
    "plt.show()\n",
    "print groups, '\\n'\n",
    "print 'IV:', information_value"
   ]
  },
  {
   "cell_type": "markdown",
   "metadata": {},
   "source": [
    "##### provice_num"
   ]
  },
  {
   "cell_type": "code",
   "execution_count": 67,
   "metadata": {
    "collapsed": true
   },
   "outputs": [
    {
     "name": "stdout",
     "output_type": "stream",
     "text": [
      "   flag_rate  group_count\n",
      "0   0.521298       499144\n",
      "2   0.636614       455163\n",
      "3   0.723226       295826\n",
      "4   0.790151       332391\n",
      "5   0.856981       239129 \n",
      "\n"
     ]
    },
    {
     "data": {
      "image/png": "[encoded data removed]",
      "text/plain": [
       "<matplotlib.figure.Figure at 0x1c06ab70>"
      ]
     },
     "metadata": {},
     "output_type": "display_data"
    },
    {
     "name": "stdout",
     "output_type": "stream",
     "text": [
      "[(0, 0, -0.65), (1, 1, -0.17), (2, 2, 0.22), (3, 4, 0.59), (5, 34, 1.05)] \n",
      "\n",
      "IV: 0.312155202286\n"
     ]
    }
   ],
   "source": [
    "flag_rate, group_count, rank_group, information_value, groups, df_model['provice_num_woe'] = rude_group_rate(df_model, 'provice_num',set=6)\n",
    "print pd.DataFrame({'flag_rate':flag_rate, 'group_count': group_count}), '\\n'\n",
    "plt.figure()\n",
    "plt.bar(flag_rate.index, flag_rate.values)\n",
    "plt.show()\n",
    "print groups, '\\n'\n",
    "print 'IV:', information_value"
   ]
  },
  {
   "cell_type": "markdown",
   "metadata": {},
   "source": [
    "##### offline_last_year_deal_orders 0值较多, 改为是否为 0¶"
   ]
  },
  {
   "cell_type": "code",
   "execution_count": 74,
   "metadata": {
    "collapsed": true
   },
   "outputs": [
    {
     "name": "stdout",
     "output_type": "stream",
     "text": [
      "   flag_rate  group_count\n",
      "1   0.660309      1353964\n",
      "3   0.721524       467689 \n",
      "\n"
     ]
    },
    {
     "data": {
      "image/png": "[encoded data removed]",
      "text/plain": [
       "<matplotlib.figure.Figure at 0x1c06a2e8>"
      ]
     },
     "metadata": {},
     "output_type": "display_data"
    },
    {
     "name": "stdout",
     "output_type": "stream",
     "text": [
      "[(0, 0, -0.07), (1, 42528, 0.22)] \n",
      "\n",
      "IV: 0.0153270160863\n"
     ]
    }
   ],
   "source": [
    "flag_rate, group_count, rank_group, information_value, groups, df_model['offline_last_year_deal_orders_woe'] = rude_group_rate(df_model, 'offline_last_year_deal_orders',set=4)\n",
    "print pd.DataFrame({'flag_rate':flag_rate, 'group_count': group_count}), '\\n'\n",
    "plt.figure()\n",
    "plt.bar(flag_rate.index, flag_rate.values)\n",
    "plt.show()\n",
    "print groups, '\\n'\n",
    "print 'IV:', information_value"
   ]
  },
  {
   "cell_type": "markdown",
   "metadata": {},
   "source": [
    "##### self_last_year_noshow_orders [0,1,null]"
   ]
  },
  {
   "cell_type": "code",
   "execution_count": 75,
   "metadata": {
    "collapsed": true
   },
   "outputs": [
    {
     "name": "stdout",
     "output_type": "stream",
     "text": [
      "   flag_rate  group_count\n",
      "0   0.677821      1607713\n",
      "1   0.662527       213940 \n",
      "\n"
     ]
    },
    {
     "data": {
      "image/png": "[encoded data removed]",
      "text/plain": [
       "<matplotlib.figure.Figure at 0xc621e80>"
      ]
     },
     "metadata": {},
     "output_type": "display_data"
    },
    {
     "name": "stdout",
     "output_type": "stream",
     "text": [
      "[(1, 50, -0.06), (0, 0, 0.01)] \n",
      "\n",
      "IV: 0.000500890789804\n"
     ]
    }
   ],
   "source": [
    "flag_rate, group_count, rank_group, information_value, groups, df_model['self_last_year_noshow_orders_woe'] = rude_group_rate(df_model, 'self_last_year_noshow_orders', set=2)\n",
    "print pd.DataFrame({'flag_rate':flag_rate, 'group_count': group_count}), '\\n'\n",
    "plt.figure()\n",
    "plt.bar(flag_rate.index, flag_rate.values)\n",
    "plt.show()\n",
    "print groups, '\\n'\n",
    "print 'IV:', information_value"
   ]
  },
  {
   "cell_type": "markdown",
   "metadata": {},
   "source": [
    "##### online_last_6m_deal_orders"
   ]
  },
  {
   "cell_type": "code",
   "execution_count": 76,
   "metadata": {
    "collapsed": true
   },
   "outputs": [
    {
     "name": "stdout",
     "output_type": "stream",
     "text": [
      "    flag_rate  group_count\n",
      "5    0.645820      1476917\n",
      "11   0.759914       138642\n",
      "12   0.799903        70076\n",
      "13   0.854666       136018 \n",
      "\n"
     ]
    },
    {
     "data": {
      "image/png": "[encoded data removed]",
      "text/plain": [
       "<matplotlib.figure.Figure at 0x1b60ef60>"
      ]
     },
     "metadata": {},
     "output_type": "display_data"
    },
    {
     "name": "stdout",
     "output_type": "stream",
     "text": [
      "[(0, 0, -0.13), (1, 1, 0.42), (2, 2, 0.65), (3, 32012, 1.04)] \n",
      "\n",
      "IV: 0.104471350765\n"
     ]
    }
   ],
   "source": [
    "flag_rate, group_count, rank_group, information_value, groups, df_model['online_last_6m_deal_orders_woe'] = rude_group_rate(df_model, 'online_last_6m_deal_orders',set=14)\n",
    "print pd.DataFrame({'flag_rate':flag_rate, 'group_count': group_count}), '\\n'\n",
    "plt.figure()\n",
    "plt.bar(flag_rate.index, flag_rate.values)\n",
    "plt.show()\n",
    "print groups, '\\n'\n",
    "print 'IV:', information_value"
   ]
  },
  {
   "cell_type": "markdown",
   "metadata": {},
   "source": [
    "##### last_6m_deal_orders "
   ]
  },
  {
   "cell_type": "code",
   "execution_count": 77,
   "metadata": {
    "collapsed": true
   },
   "outputs": [
    {
     "name": "stdout",
     "output_type": "stream",
     "text": [
      "   flag_rate  group_count\n",
      "1   0.548767       665290\n",
      "4   0.639409       258720\n",
      "5   0.696404       179818\n",
      "6   0.731615       133096\n",
      "7   0.774675       247083\n",
      "8   0.822161       160072\n",
      "9   0.874852       177574 \n",
      "\n"
     ]
    },
    {
     "data": {
      "image/png": "[encoded data removed]",
      "text/plain": [
       "<matplotlib.figure.Figure at 0x165720b8>"
      ]
     },
     "metadata": {},
     "output_type": "display_data"
    },
    {
     "name": "stdout",
     "output_type": "stream",
     "text": [
      "[(0, 0, -0.54), (1, 1, -0.16), (2, 2, 0.09), (3, 3, 0.27), (4, 6, 0.5), (7, 10, 0.8), (11, 74516, 1.21)] \n",
      "\n",
      "IV: 0.308392174433\n"
     ]
    }
   ],
   "source": [
    "flag_rate, group_count, rank_group, information_value, groups, df_model['last_6m_deal_orders_woe'] = rude_group_rate(df_model, 'last_6m_deal_orders',set=10)\n",
    "print pd.DataFrame({'flag_rate':flag_rate, 'group_count': group_count}), '\\n'\n",
    "plt.figure()\n",
    "plt.bar(flag_rate.index, flag_rate.values)\n",
    "plt.show()\n",
    "print groups, '\\n'\n",
    "print 'IV:', information_value"
   ]
  },
  {
   "cell_type": "code",
   "execution_count": 78,
   "metadata": {
    "collapsed": true
   },
   "outputs": [
    {
     "name": "stdout",
     "output_type": "stream",
     "text": [
      "   flag_rate  group_count\n",
      "0   0.548767       665290\n",
      "1   0.639409       258720\n",
      "2   0.711381       312914\n",
      "3   0.793344       407155\n",
      "4   0.874852       177574 \n",
      "\n"
     ]
    },
    {
     "data": {
      "image/png": "[encoded data removed]",
      "text/plain": [
       "<matplotlib.figure.Figure at 0x1fdff278>"
      ]
     },
     "metadata": {},
     "output_type": "display_data"
    },
    {
     "name": "stdout",
     "output_type": "stream",
     "text": [
      "[(0, 0, -0.54), (1, 1, -0.16), (2, 3, 0.17), (4, 10, 0.61), (11, 74516, 1.21)] \n",
      "\n",
      "IV: 0.303025890543\n"
     ]
    }
   ],
   "source": [
    "group = rank_group.replace(1,0).replace(4,1).replace([5,6],2).replace([7,8],3).replace(9,4)\n",
    "flag_rate, group_count, rank_group, information_value, groups, df_model['last_6m_deal_orders_woe'] = rude_group_rate(df_model, 'last_6m_deal_orders',rank_group=group)\n",
    "print pd.DataFrame({'flag_rate':flag_rate, 'group_count': group_count}), '\\n'\n",
    "plt.figure()\n",
    "plt.bar(flag_rate.index, flag_rate.values)\n",
    "plt.show()\n",
    "print groups, '\\n'\n",
    "print 'IV:', information_value"
   ]
  },
  {
   "cell_type": "markdown",
   "metadata": {},
   "source": [
    "##### offline_last_year_noshow_orders"
   ]
  },
  {
   "cell_type": "code",
   "execution_count": 79,
   "metadata": {
    "collapsed": true
   },
   "outputs": [
    {
     "name": "stdout",
     "output_type": "stream",
     "text": [
      "   flag_rate  group_count\n",
      "0   0.684135      1710176\n",
      "1   0.551612       111477 \n",
      "\n"
     ]
    },
    {
     "data": {
      "image/png": "[encoded data removed]",
      "text/plain": [
       "<matplotlib.figure.Figure at 0x1f8f6908>"
      ]
     },
     "metadata": {},
     "output_type": "display_data"
    },
    {
     "name": "stdout",
     "output_type": "stream",
     "text": [
      "[(1, 8154, -0.53), (0, 0, 0.04)] \n",
      "\n",
      "IV: 0.0196636816516\n"
     ]
    }
   ],
   "source": [
    "flag_rate, group_count, rank_group, information_value, groups, df_model['offline_last_year_noshow_orders_woe'] = rude_group_rate(df_model, 'offline_last_year_noshow_orders',set=2)\n",
    "print pd.DataFrame({'flag_rate':flag_rate, 'group_count': group_count}), '\\n'\n",
    "plt.figure()\n",
    "plt.bar(flag_rate.index, flag_rate.values)\n",
    "plt.show()\n",
    "print groups, '\\n'\n",
    "print 'IV:', information_value"
   ]
  },
  {
   "cell_type": "markdown",
   "metadata": {},
   "source": [
    "##### last_6m_noshow_orders"
   ]
  },
  {
   "cell_type": "code",
   "execution_count": 80,
   "metadata": {
    "collapsed": true
   },
   "outputs": [
    {
     "name": "stdout",
     "output_type": "stream",
     "text": [
      "    flag_rate  group_count\n",
      "8    0.688125      1559970\n",
      "18   0.641351       180123\n",
      "19   0.521162        81560 \n",
      "\n"
     ]
    },
    {
     "data": {
      "image/png": "[encoded data removed]",
      "text/plain": [
       "<matplotlib.figure.Figure at 0x1b60ea58>"
      ]
     },
     "metadata": {},
     "output_type": "display_data"
    },
    {
     "name": "stdout",
     "output_type": "stream",
     "text": [
      "[(2, 78478, -0.65), (1, 1, -0.15), (0, 0, 0.06)] \n",
      "\n",
      "IV: 0.0256614017669\n"
     ]
    }
   ],
   "source": [
    "flag_rate, group_count, rank_group, information_value, groups, df_model['last_6m_noshow_orders_woe'] = rude_group_rate(df_model, 'last_6m_noshow_orders',set=20)\n",
    "print pd.DataFrame({'flag_rate':flag_rate, 'group_count': group_count}), '\\n'\n",
    "plt.figure()\n",
    "plt.bar(flag_rate.index, flag_rate.values)\n",
    "plt.show()\n",
    "print groups, '\\n'\n",
    "print 'IV:', information_value"
   ]
  },
  {
   "cell_type": "markdown",
   "metadata": {},
   "source": [
    "##### recent5_noshow_rate"
   ]
  },
  {
   "cell_type": "code",
   "execution_count": 81,
   "metadata": {
    "collapsed": true
   },
   "outputs": [
    {
     "name": "stdout",
     "output_type": "stream",
     "text": [
      "     flag_rate  group_count\n",
      "-10   0.518352       355475\n",
      " 0    0.761205      1099749\n",
      " 2    0.684200       201241\n",
      " 3    0.491940        19354\n",
      " 4    0.564430        54625\n",
      " 5    0.413254        43610\n",
      " 6    0.323556         5523\n",
      " 7    0.247603         1773\n",
      " 8    0.289898         4712\n",
      " 10   0.293108        35591 \n",
      "\n"
     ]
    },
    {
     "data": {
      "image/png": "[encoded data removed]",
      "text/plain": [
       "<matplotlib.figure.Figure at 0x1657b128>"
      ]
     },
     "metadata": {},
     "output_type": "display_data"
    },
    {
     "name": "stdout",
     "output_type": "stream",
     "text": [
      "[(0.75, 0.75, -1.85), (0.80000000000000004, 0.80000000000000004, -1.63), (1.0, 1.0, -1.62), (0.66666666666666663, 0.66666666666666663, -1.47), (0.5, 0.59999999999999998, -1.09), (0.33333333333333331, 0.33333333333333331, -0.77), (-1.0, -1.0, -0.66), (0.40000000000000002, 0.40000000000000002, -0.48), (0.20000000000000001, 0.25, 0.04), (0.0, 0.0, 0.42)] \n",
      "\n",
      "IV: 0.311335431303\n"
     ]
    }
   ],
   "source": [
    "group = pd.Series([floor(i/0.1) for i in df_model.recent5_noshow_rate])\n",
    "flag_rate, group_count, rank_group, information_value, groups, df_model['recent5_noshow_rate_woe'] = rude_group_rate(df_model, 'recent5_noshow_rate',rank_group=group)\n",
    "print pd.DataFrame({'flag_rate':flag_rate, 'group_count': group_count}), '\\n'\n",
    "plt.figure()\n",
    "plt.bar(flag_rate.index, flag_rate.values)\n",
    "plt.show()\n",
    "print groups, '\\n'\n",
    "print 'IV:', information_value"
   ]
  },
  {
   "cell_type": "code",
   "execution_count": 82,
   "metadata": {
    "collapsed": true
   },
   "outputs": [
    {
     "name": "stdout",
     "output_type": "stream",
     "text": [
      "    flag_rate  group_count\n",
      "-1   0.518352       355475\n",
      " 0   0.761205      1099749\n",
      " 1   0.684200       201241\n",
      " 2   0.438282       165188 \n",
      "\n"
     ]
    },
    {
     "data": {
      "image/png": "[encoded data removed]",
      "text/plain": [
       "<matplotlib.figure.Figure at 0x1fdffb00>"
      ]
     },
     "metadata": {},
     "output_type": "display_data"
    },
    {
     "name": "stdout",
     "output_type": "stream",
     "text": [
      "[(0.33333333333333331, 1.0, -0.98), (-1.0, -1.0, -0.66), (0.20000000000000001, 0.25, 0.04), (0.0, 0.0, 0.42)] \n",
      "\n",
      "IV: 0.289492726869\n"
     ]
    }
   ],
   "source": [
    "group = rank_group.replace(-10,-1).replace(2,1).replace(range(3,11),2)\n",
    "flag_rate, group_count, rank_group, information_value, groups, df_model['recent5_noshow_rate_woe'] = rude_group_rate(df_model, 'recent5_noshow_rate',rank_group=group)\n",
    "print pd.DataFrame({'flag_rate':flag_rate, 'group_count': group_count}), '\\n'\n",
    "plt.figure()\n",
    "plt.bar(flag_rate.index, flag_rate.values)\n",
    "plt.show()\n",
    "print groups, '\\n'\n",
    "print 'IV:', information_value"
   ]
  },
  {
   "cell_type": "markdown",
   "metadata": {},
   "source": [
    "##### recent10_noshow_rate"
   ]
  },
  {
   "cell_type": "code",
   "execution_count": 84,
   "metadata": {
    "collapsed": true
   },
   "outputs": [
    {
     "name": "stdout",
     "output_type": "stream",
     "text": [
      "     flag_rate  group_count\n",
      "-10   0.518352       355475\n",
      " 0    0.764618       996352\n",
      " 1    0.752976       202814\n",
      " 2    0.619357       132686\n",
      " 3    0.477564        28570\n",
      " 4    0.437379        18668\n",
      " 5    0.383312        40124\n",
      " 6    0.286795         7800\n",
      " 7    0.228151         2380\n",
      " 8    0.158501         1735\n",
      " 9    0.102041          245\n",
      " 10   0.293932        34804 \n",
      "\n"
     ]
    },
    {
     "data": {
      "image/png": "[encoded data removed]",
      "text/plain": [
       "<matplotlib.figure.Figure at 0x1ad49400>"
      ]
     },
     "metadata": {},
     "output_type": "display_data"
    },
    {
     "name": "stdout",
     "output_type": "stream",
     "text": [
      "[(0.90000000000000002, 0.90000000000000002, -2.91), (0.80000000000000004, 0.88888888888888884, -2.4), (0.7142857142857143, 0.77777777777777779, -1.95), (0.625, 0.69999999999999996, -1.65), (1.0, 1.0, -1.61), (0.5, 0.59999999999999998, -1.21), (0.40000000000000002, 0.44444444444444442, -0.99), (0.33333333333333331, 0.375, -0.83), (-1.0, -1.0, -0.66), (0.20000000000000001, 0.29999999999999999, -0.25), (0.10000000000000001, 0.16666666666666666, 0.38), (0.0, 0.0, 0.44)] \n",
      "\n",
      "IV: 0.346779766181\n"
     ]
    }
   ],
   "source": [
    "group = pd.Series([floor(i/0.1) for i in df_model.recent10_noshow_rate])\n",
    "flag_rate, group_count, rank_group, information_value, groups, df_model['recent10_noshow_rate_woe'] = rude_group_rate(df_model, 'recent10_noshow_rate',rank_group=group)\n",
    "print pd.DataFrame({'flag_rate':flag_rate, 'group_count': group_count}), '\\n'\n",
    "plt.figure()\n",
    "plt.bar(flag_rate.index, flag_rate.values)\n",
    "plt.show()\n",
    "print groups, '\\n'\n",
    "print 'IV:', information_value"
   ]
  },
  {
   "cell_type": "code",
   "execution_count": 85,
   "metadata": {
    "collapsed": true
   },
   "outputs": [
    {
     "name": "stdout",
     "output_type": "stream",
     "text": [
      "    flag_rate  group_count\n",
      "-1   0.518352       355475\n",
      " 0   0.764618       996352\n",
      " 1   0.752976       202814\n",
      " 2   0.619357       132686\n",
      " 3   0.375944       134326 \n",
      "\n"
     ]
    },
    {
     "data": {
      "image/png": "[encoded data removed]",
      "text/plain": [
       "<matplotlib.figure.Figure at 0x20194160>"
      ]
     },
     "metadata": {},
     "output_type": "display_data"
    },
    {
     "name": "stdout",
     "output_type": "stream",
     "text": [
      "[(0.33333333333333331, 1.0, -1.24), (-1.0, -1.0, -0.66), (0.20000000000000001, 0.29999999999999999, -0.25), (0.10000000000000001, 0.16666666666666666, 0.38), (0.0, 0.0, 0.44)] \n",
      "\n",
      "IV: 0.335973750102\n"
     ]
    }
   ],
   "source": [
    "group = rank_group.replace(-10,-1).replace(range(3,11),3)\n",
    "flag_rate, group_count, rank_group, information_value, groups, df_model['recent10_noshow_rate_woe'] = rude_group_rate(df_model, 'recent10_noshow_rate',rank_group=group)\n",
    "print pd.DataFrame({'flag_rate':flag_rate, 'group_count': group_count}), '\\n'\n",
    "plt.figure()\n",
    "plt.bar(flag_rate.index, flag_rate.values)\n",
    "plt.show()\n",
    "print groups, '\\n'\n",
    "print 'IV:', information_value"
   ]
  },
  {
   "cell_type": "markdown",
   "metadata": {},
   "source": [
    "##### recent15_noshow_rate"
   ]
  },
  {
   "cell_type": "code",
   "execution_count": 86,
   "metadata": {
    "collapsed": true
   },
   "outputs": [
    {
     "name": "stdout",
     "output_type": "stream",
     "text": [
      "     flag_rate  group_count\n",
      "-10   0.518352       355475\n",
      " 0    0.769997      1100482\n",
      " 1    0.702949       129823\n",
      " 2    0.583646        98714\n",
      " 3    0.471347        38076\n",
      " 4    0.382353        15436\n",
      " 5    0.378090        36769\n",
      " 6    0.284222         7656\n",
      " 7    0.215788         2711\n",
      " 8    0.145272         1597\n",
      " 9    0.061350          163\n",
      " 10   0.294294        34751 \n",
      "\n"
     ]
    },
    {
     "data": {
      "image/png": "[encoded data removed]",
      "text/plain": [
       "<matplotlib.figure.Figure at 0x20e075f8>"
      ]
     },
     "metadata": {},
     "output_type": "display_data"
    },
    {
     "name": "stdout",
     "output_type": "stream",
     "text": [
      "[(0.90000000000000002, 0.93333333333333324, -3.46), (0.80000000000000004, 0.88888888888888884, -2.51), (0.7142857142857143, 0.7857142857142857, -2.03), (0.61538461538461542, 0.69999999999999996, -1.66), (1.0, 1.0, -1.61), (0.5, 0.59999999999999998, -1.23), (0.40000000000000002, 0.46666666666666667, -1.22), (0.30769230769230771, 0.38461538461538464, -0.85), (-1.0, -1.0, -0.66), (0.20000000000000001, 0.29999999999999999, -0.4), (0.10000000000000001, 0.18181818181818185, 0.13), (0.0, 0.090909090909090925, 0.47)] \n",
      "\n",
      "IV: 0.36857001624\n"
     ]
    }
   ],
   "source": [
    "group = pd.Series([floor(i/0.1) for i in df_model.recent15_noshow_rate])\n",
    "flag_rate, group_count, rank_group, information_value, groups, df_model['recent15_noshow_rate_woe'] = rude_group_rate(df_model, 'recent15_noshow_rate',rank_group=group)\n",
    "print pd.DataFrame({'flag_rate':flag_rate, 'group_count': group_count}), '\\n'\n",
    "plt.figure()\n",
    "plt.bar(flag_rate.index, flag_rate.values)\n",
    "plt.show()\n",
    "print groups, '\\n'\n",
    "print 'IV:', information_value"
   ]
  },
  {
   "cell_type": "code",
   "execution_count": 87,
   "metadata": {
    "collapsed": true
   },
   "outputs": [
    {
     "name": "stdout",
     "output_type": "stream",
     "text": [
      "    flag_rate  group_count\n",
      "-1   0.518352       355475\n",
      " 0   0.769997      1100482\n",
      " 1   0.702949       129823\n",
      " 2   0.583646        98714\n",
      " 3   0.371693       137159 \n",
      "\n"
     ]
    },
    {
     "data": {
      "image/png": "[encoded data removed]",
      "text/plain": [
       "<matplotlib.figure.Figure at 0x20e08128>"
      ]
     },
     "metadata": {},
     "output_type": "display_data"
    },
    {
     "name": "stdout",
     "output_type": "stream",
     "text": [
      "[(0.30769230769230771, 1.0, -1.26), (-1.0, -1.0, -0.66), (0.20000000000000001, 0.29999999999999999, -0.4), (0.10000000000000001, 0.18181818181818185, 0.13), (0.0, 0.090909090909090925, 0.47)] \n",
      "\n",
      "IV: 0.357628569167\n"
     ]
    }
   ],
   "source": [
    "group = rank_group.replace(-10,-1).replace(range(3,11),3)\n",
    "flag_rate, group_count, rank_group, information_value, groups, df_model['recent15_noshow_rate_woe'] = rude_group_rate(df_model, 'recent15_noshow_rate',rank_group=group)\n",
    "print pd.DataFrame({'flag_rate':flag_rate, 'group_count': group_count}), '\\n'\n",
    "plt.figure()\n",
    "plt.bar(flag_rate.index, flag_rate.values)\n",
    "plt.show()\n",
    "print groups, '\\n'\n",
    "print 'IV:', information_value"
   ]
  },
  {
   "cell_type": "markdown",
   "metadata": {},
   "source": [
    "##### recent20_noshow_rate"
   ]
  },
  {
   "cell_type": "code",
   "execution_count": 93,
   "metadata": {
    "collapsed": true
   },
   "outputs": [
    {
     "name": "stdout",
     "output_type": "stream",
     "text": [
      "     flag_rate  group_count\n",
      "-10   0.518352       355475\n",
      " 0    0.770296      1076087\n",
      " 1    0.715278       166099\n",
      " 2    0.560306        90281\n",
      " 3    0.461657        36395\n",
      " 4    0.367626        13696\n",
      " 5    0.377393        36768\n",
      " 6    0.282194         7711\n",
      " 7    0.213592         2678\n",
      " 8    0.146169         1553\n",
      " 9    0.063218          174\n",
      " 10   0.294392        34736 \n",
      "\n"
     ]
    },
    {
     "data": {
      "image/png": "[encoded data removed]",
      "text/plain": [
       "<matplotlib.figure.Figure at 0x186cf4e0>"
      ]
     },
     "metadata": {},
     "output_type": "display_data"
    },
    {
     "name": "stdout",
     "output_type": "stream",
     "text": [
      "[(0.90000000000000002, 0.94999999999999996, -3.43), (0.80000000000000004, 0.89473684210526316, -2.5), (0.70588235294117652, 0.78947368421052633, -2.04), (0.61111111111111116, 0.69999999999999996, -1.67), (1.0, 1.0, -1.61), (0.40000000000000002, 0.47368421052631582, -1.28), (0.5, 0.59999999999999998, -1.24), (0.30769230769230771, 0.3888888888888889, -0.89), (-1.0, -1.0, -0.66), (0.20000000000000001, 0.29999999999999999, -0.49), (0.10000000000000001, 0.1875, 0.19), (0.0, 0.090909090909090925, 0.47)] \n",
      "\n",
      "IV: 0.373125535381\n"
     ]
    }
   ],
   "source": [
    "group = pd.Series([floor(i/0.1) for i in df_model.recent20_noshow_rate])\n",
    "flag_rate, group_count, rank_group, information_value, groups, df_model['recent20_noshow_rate_woe'] = rude_group_rate(df_model, 'recent20_noshow_rate',rank_group=group)\n",
    "print pd.DataFrame({'flag_rate':flag_rate, 'group_count': group_count}), '\\n'\n",
    "plt.figure()\n",
    "plt.bar(flag_rate.index, flag_rate.values)\n",
    "plt.show()\n",
    "print groups, '\\n'\n",
    "print 'IV:', information_value"
   ]
  },
  {
   "cell_type": "code",
   "execution_count": 94,
   "metadata": {
    "collapsed": true
   },
   "outputs": [
    {
     "name": "stdout",
     "output_type": "stream",
     "text": [
      "    flag_rate  group_count\n",
      "-1   0.518352       355475\n",
      " 0   0.770296      1076087\n",
      " 1   0.715278       166099\n",
      " 2   0.560306        90281\n",
      " 3   0.365901       133711 \n",
      "\n"
     ]
    },
    {
     "data": {
      "image/png": "[encoded data removed]",
      "text/plain": [
       "<matplotlib.figure.Figure at 0x186cf0f0>"
      ]
     },
     "metadata": {},
     "output_type": "display_data"
    },
    {
     "name": "stdout",
     "output_type": "stream",
     "text": [
      "[(0.30769230769230771, 1.0, -1.29), (-1.0, -1.0, -0.66), (0.20000000000000001, 0.29999999999999999, -0.49), (0.10000000000000001, 0.1875, 0.19), (0.0, 0.090909090909090925, 0.47)] \n",
      "\n",
      "IV: 0.363190313471\n"
     ]
    }
   ],
   "source": [
    "group = rank_group.replace(-10,-1).replace(range(3,11),3)\n",
    "flag_rate, group_count, rank_group, information_value, groups, df_model['recent20_noshow_rate_woe'] = rude_group_rate(df_model, 'recent20_noshow_rate',rank_group=group)\n",
    "print pd.DataFrame({'flag_rate':flag_rate, 'group_count': group_count}), '\\n'\n",
    "plt.figure()\n",
    "plt.bar(flag_rate.index, flag_rate.values)\n",
    "plt.show()\n",
    "print groups, '\\n'\n",
    "print 'IV:', information_value"
   ]
  },
  {
   "cell_type": "markdown",
   "metadata": {},
   "source": [
    "##### last_6m_deal_amount"
   ]
  },
  {
   "cell_type": "code",
   "execution_count": 95,
   "metadata": {
    "collapsed": true
   },
   "outputs": [
    {
     "name": "stdout",
     "output_type": "stream",
     "text": [
      "   flag_rate  group_count\n",
      "1   0.548767       665290\n",
      "2   0.588578       245728\n",
      "3   0.706969       303449\n",
      "4   0.792988       303591\n",
      "5   0.877785       303595 \n",
      "\n"
     ]
    },
    {
     "data": {
      "image/png": "[encoded data removed]",
      "text/plain": [
       "<matplotlib.figure.Figure at 0x21a55828>"
      ]
     },
     "metadata": {},
     "output_type": "display_data"
    },
    {
     "name": "stdout",
     "output_type": "stream",
     "text": [
      "[(0.0, 0.0, -0.54), (1.0, 658.0, -0.38), (659.0, 1983.0, 0.15), (1984.0, 5399.0, 0.61), (5400.0, 56569961.0, 1.24)] \n",
      "\n",
      "IV: 0.382145766364\n"
     ]
    }
   ],
   "source": [
    "flag_rate, group_count, rank_group, information_value, groups, df_model['last_6m_deal_amount_woe'] = rude_group_rate(df_model, 'last_6m_deal_amount', set = 6)\n",
    "print pd.DataFrame({'flag_rate':flag_rate, 'group_count': group_count}), '\\n'\n",
    "plt.figure()\n",
    "plt.bar(flag_rate.index, flag_rate.values)\n",
    "plt.show()\n",
    "print groups, '\\n'\n",
    "print 'IV:', information_value"
   ]
  },
  {
   "cell_type": "markdown",
   "metadata": {},
   "source": [
    "##### self_last_6m_deal_orders"
   ]
  },
  {
   "cell_type": "code",
   "execution_count": 96,
   "metadata": {
    "collapsed": true
   },
   "outputs": [
    {
     "name": "stdout",
     "output_type": "stream",
     "text": [
      "   flag_rate  group_count\n",
      "3   0.610588      1136995\n",
      "6   0.725225       185799\n",
      "7   0.756017       118832\n",
      "8   0.788485       188838\n",
      "9   0.856566       191189 \n",
      "\n"
     ]
    },
    {
     "data": {
      "image/png": "[encoded data removed]",
      "text/plain": [
       "<matplotlib.figure.Figure at 0x21a551d0>"
      ]
     },
     "metadata": {},
     "output_type": "display_data"
    },
    {
     "name": "stdout",
     "output_type": "stream",
     "text": [
      "[(0, 0, -0.29), (1, 1, 0.23), (2, 2, 0.4), (3, 5, 0.58), (6, 146, 1.05)] \n",
      "\n",
      "IV: 0.189954639049\n"
     ]
    }
   ],
   "source": [
    "flag_rate, group_count, rank_group, information_value, groups, df_model['self_last_6m_deal_orders_woe'] = rude_group_rate(df_model, 'self_last_6m_deal_orders', set = 10)\n",
    "print pd.DataFrame({'flag_rate':flag_rate, 'group_count': group_count}), '\\n'\n",
    "plt.figure()\n",
    "plt.bar(flag_rate.index, flag_rate.values)\n",
    "plt.show()\n",
    "print groups, '\\n'\n",
    "print 'IV:', information_value"
   ]
  },
  {
   "cell_type": "markdown",
   "metadata": {},
   "source": [
    "##### oversea_flag"
   ]
  },
  {
   "cell_type": "code",
   "execution_count": 97,
   "metadata": {
    "collapsed": true
   },
   "outputs": [
    {
     "name": "stdout",
     "output_type": "stream",
     "text": [
      "              flag_rate  group_count\n",
      "oversea_flag                        \n",
      "0              0.664477      1724814\n",
      "1              0.881701        96839 \n",
      "\n"
     ]
    },
    {
     "data": {
      "image/png": "[encoded data removed]",
      "text/plain": [
       "<matplotlib.figure.Figure at 0x11893d30>"
      ]
     },
     "metadata": {},
     "output_type": "display_data"
    },
    {
     "name": "stdout",
     "output_type": "stream",
     "text": [
      "[(array([0], dtype=int64), -0.05), (array([1], dtype=int64), 1.27)] \n",
      "\n",
      "IV: 0.0661628698085\n"
     ]
    }
   ],
   "source": [
    "flag_rate, group_count, rank_group, information_value, groups, df_model['oversea_flag_woe'] = rude_group_rate(df_model, 'oversea_flag')\n",
    "print pd.DataFrame({'flag_rate':flag_rate, 'group_count': group_count}), '\\n'\n",
    "plt.figure()\n",
    "plt.bar(flag_rate.index, flag_rate.values)\n",
    "plt.show()\n",
    "print groups, '\\n'\n",
    "print 'IV:', information_value"
   ]
  },
  {
   "cell_type": "markdown",
   "metadata": {
    "collapsed": true
   },
   "source": [
    "##### fguarantee_last_6m_noshow_orders"
   ]
  },
  {
   "cell_type": "code",
   "execution_count": 98,
   "metadata": {
    "collapsed": true
   },
   "outputs": [
    {
     "name": "stdout",
     "output_type": "stream",
     "text": [
      "    flag_rate  group_count\n",
      "4    0.688443      1563637\n",
      "9    0.638642       177569\n",
      "10   0.517173        80447 \n",
      "\n"
     ]
    },
    {
     "data": {
      "image/png": "[encoded data removed]",
      "text/plain": [
       "<matplotlib.figure.Figure at 0xefec8d0>"
      ]
     },
     "metadata": {},
     "output_type": "display_data"
    },
    {
     "name": "stdout",
     "output_type": "stream",
     "text": [
      "[(2, 78445, -0.67), (1, 1, -0.17), (0, 0, 0.06)] \n",
      "\n",
      "IV: 0.0269108358398\n"
     ]
    }
   ],
   "source": [
    "flag_rate, group_count, rank_group, information_value, groups, df_model['fguarantee_last_6m_noshow_orders_woe'] = rude_group_rate(df_model, 'fguarantee_last_6m_noshow_orders',set=11)\n",
    "print pd.DataFrame({'flag_rate':flag_rate, 'group_count': group_count}), '\\n'\n",
    "plt.figure()\n",
    "plt.bar(flag_rate.index, flag_rate.values)\n",
    "plt.show()\n",
    "print groups, '\\n'\n",
    "print 'IV:', information_value"
   ]
  },
  {
   "cell_type": "markdown",
   "metadata": {},
   "source": [
    "##### offline_last_6m_noshow_orders"
   ]
  },
  {
   "cell_type": "code",
   "execution_count": 99,
   "metadata": {
    "collapsed": true
   },
   "outputs": [
    {
     "name": "stdout",
     "output_type": "stream",
     "text": [
      "   flag_rate  group_count\n",
      "0   0.681223      1762683\n",
      "1   0.520638        58970 \n",
      "\n"
     ]
    },
    {
     "data": {
      "image/png": "[encoded data removed]",
      "text/plain": [
       "<matplotlib.figure.Figure at 0x1952db70>"
      ]
     },
     "metadata": {},
     "output_type": "display_data"
    },
    {
     "name": "stdout",
     "output_type": "stream",
     "text": [
      "[(1, 7666, -0.65), (0, 0, 0.02)] \n",
      "\n",
      "IV: 0.0155442251077\n"
     ]
    }
   ],
   "source": [
    "flag_rate, group_count, rank_group, information_value, groups, df_model['offline_last_6m_noshow_orders_woe'] = rude_group_rate(df_model, 'offline_last_6m_noshow_orders',set=2)\n",
    "print pd.DataFrame({'flag_rate':flag_rate, 'group_count': group_count}), '\\n'\n",
    "plt.figure()\n",
    "plt.bar(flag_rate.index, flag_rate.values)\n",
    "plt.show()\n",
    "print groups, '\\n'\n",
    "print 'IV:', information_value"
   ]
  },
  {
   "cell_type": "markdown",
   "metadata": {},
   "source": [
    "##### min_deal_price"
   ]
  },
  {
   "cell_type": "code",
   "execution_count": 100,
   "metadata": {
    "collapsed": false
   },
   "outputs": [
    {
     "name": "stdout",
     "output_type": "stream",
     "text": [
      "    flag_rate  group_count\n",
      "8    0.668163      1522004\n",
      "16   0.624390        26232\n",
      "17   0.674771        91228\n",
      "18   0.732006        91144\n",
      "19   0.767555        91045 \n",
      "\n"
     ]
    },
    {
     "data": {
      "image/png": "[encoded data removed]",
      "text/plain": [
       "<matplotlib.figure.Figure at 0x20ba3ac8>"
      ]
     },
     "metadata": {},
     "output_type": "display_data"
    },
    {
     "name": "stdout",
     "output_type": "stream",
     "text": [
      "[(1.0, 136.0, -0.23), (0.0, 0.0, -0.04), (137.0, 288.0, -0.01), (289.0, 567.0, 0.27), (568.0, 63200.0, 0.46)] \n",
      "\n",
      "IV: 0.0148740967725\n"
     ]
    }
   ],
   "source": [
    "flag_rate, group_count, rank_group, information_value, groups, df_model['min_deal_price_woe'] = rude_group_rate(df_model, 'min_deal_price',set=20)\n",
    "print pd.DataFrame({'flag_rate':flag_rate, 'group_count': group_count}), '\\n'\n",
    "plt.figure()\n",
    "plt.bar(flag_rate.index, flag_rate.values)\n",
    "plt.show()\n",
    "print groups, '\\n'\n",
    "print 'IV:', information_value"
   ]
  },
  {
   "cell_type": "code",
   "execution_count": 101,
   "metadata": {
    "collapsed": true
   },
   "outputs": [
    {
     "name": "stdout",
     "output_type": "stream",
     "text": [
      "   flag_rate  group_count\n",
      "0   0.667421      1548236\n",
      "1   0.674771        91228\n",
      "2   0.732006        91144\n",
      "3   0.767555        91045 \n",
      "\n"
     ]
    },
    {
     "data": {
      "image/png": "[encoded data removed]",
      "text/plain": [
       "<matplotlib.figure.Figure at 0x1479fbe0>"
      ]
     },
     "metadata": {},
     "output_type": "display_data"
    },
    {
     "name": "stdout",
     "output_type": "stream",
     "text": [
      "[(0.0, 136.0, -0.04), (137.0, 288.0, -0.01), (289.0, 567.0, 0.27), (568.0, 63200.0, 0.46)] \n",
      "\n",
      "IV: 0.0143350328964\n"
     ]
    }
   ],
   "source": [
    "group = rank_group.replace([8,16],0).replace(17,1).replace(18,2).replace(19,3)\n",
    "flag_rate, group_count, rank_group, information_value, groups, df_model['min_deal_price_woe'] = rude_group_rate(df_model, 'min_deal_price',rank_group=group)\n",
    "print pd.DataFrame({'flag_rate':flag_rate, 'group_count': group_count}), '\\n'\n",
    "plt.figure()\n",
    "plt.bar(flag_rate.index, flag_rate.values)\n",
    "plt.show()\n",
    "print groups, '\\n'\n",
    "print 'IV:', information_value"
   ]
  },
  {
   "cell_type": "markdown",
   "metadata": {},
   "source": [
    "##### offline_last_6m_deal_orders"
   ]
  },
  {
   "cell_type": "code",
   "execution_count": 102,
   "metadata": {
    "collapsed": true
   },
   "outputs": [
    {
     "name": "stdout",
     "output_type": "stream",
     "text": [
      "   flag_rate  group_count\n",
      "0   0.668071      1511976\n",
      "1   0.714861       309677 \n",
      "\n"
     ]
    },
    {
     "data": {
      "image/png": "[encoded data removed]",
      "text/plain": [
       "<matplotlib.figure.Figure at 0x1fe20be0>"
      ]
     },
     "metadata": {},
     "output_type": "display_data"
    },
    {
     "name": "stdout",
     "output_type": "stream",
     "text": [
      "[(0, 0, -0.04), (1, 11705, 0.18)] \n",
      "\n",
      "IV: 0.00662082325905\n"
     ]
    }
   ],
   "source": [
    "flag_rate, group_count, rank_group, information_value, groups, df_model['offline_last_6m_deal_orders_woe'] = rude_group_rate(df_model, 'offline_last_6m_deal_orders',set=2)\n",
    "print pd.DataFrame({'flag_rate':flag_rate, 'group_count': group_count}), '\\n'\n",
    "plt.figure()\n",
    "plt.bar(flag_rate.index, flag_rate.values)\n",
    "plt.show()\n",
    "print groups, '\\n'\n",
    "print 'IV:', information_value"
   ]
  },
  {
   "cell_type": "markdown",
   "metadata": {},
   "source": [
    "##### self_last_6m_noshow_orders"
   ]
  },
  {
   "cell_type": "code",
   "execution_count": 103,
   "metadata": {
    "collapsed": true
   },
   "outputs": [
    {
     "name": "stdout",
     "output_type": "stream",
     "text": [
      "   flag_rate  group_count\n",
      "0   0.678484      1691618\n",
      "1   0.644042       130035 \n",
      "\n"
     ]
    },
    {
     "data": {
      "image/png": "[encoded data removed]",
      "text/plain": [
       "<matplotlib.figure.Figure at 0x16579f98>"
      ]
     },
     "metadata": {},
     "output_type": "display_data"
    },
    {
     "name": "stdout",
     "output_type": "stream",
     "text": [
      "[(1, 41, -0.14), (0, 0, 0.01)] \n",
      "\n",
      "IV: 0.00160386146708\n"
     ]
    }
   ],
   "source": [
    "flag_rate, group_count, rank_group, information_value, groups, df_model['self_last_6m_noshow_orders_woe'] = rude_group_rate(df_model, 'self_last_6m_noshow_orders',set=2)\n",
    "print pd.DataFrame({'flag_rate':flag_rate, 'group_count': group_count}), '\\n'\n",
    "plt.figure()\n",
    "plt.bar(flag_rate.index, flag_rate.values)\n",
    "plt.show()\n",
    "print groups, '\\n'\n",
    "print 'IV:', information_value"
   ]
  },
  {
   "cell_type": "markdown",
   "metadata": {},
   "source": [
    "##### online_last_6m_noshow_orders"
   ]
  },
  {
   "cell_type": "code",
   "execution_count": 104,
   "metadata": {
    "collapsed": true
   },
   "outputs": [
    {
     "name": "stdout",
     "output_type": "stream",
     "text": [
      "   flag_rate  group_count\n",
      "0   0.677163      1780759\n",
      "1   0.626473        40894 \n",
      "\n"
     ]
    },
    {
     "data": {
      "image/png": "[encoded data removed]",
      "text/plain": [
       "<matplotlib.figure.Figure at 0x1fe20cc0>"
      ]
     },
     "metadata": {},
     "output_type": "display_data"
    },
    {
     "name": "stdout",
     "output_type": "stream",
     "text": [
      "[(1, 1223, -0.22), (0, 0, 0.01)] \n",
      "\n",
      "IV: 0.0011359052907\n"
     ]
    }
   ],
   "source": [
    "flag_rate, group_count, rank_group, information_value, groups, df_model['online_last_6m_noshow_orders_woe'] = rude_group_rate(df_model, 'online_last_6m_noshow_orders',set=2)\n",
    "print pd.DataFrame({'flag_rate':flag_rate, 'group_count': group_count}), '\\n'\n",
    "plt.figure()\n",
    "plt.bar(flag_rate.index, flag_rate.values)\n",
    "plt.show()\n",
    "print groups, '\\n'\n",
    "print 'IV:', information_value"
   ]
  }
 ],
 "metadata": {
  "kernelspec": {
   "display_name": "Python 3",
   "language": "python",
   "name": "python3"
  },
  "language_info": {
   "codemirror_mode": {
    "name": "ipython",
    "version": 3
   },
   "file_extension": ".py",
   "mimetype": "text/x-python",
   "name": "python",
   "nbconvert_exporter": "python",
   "pygments_lexer": "ipython3",
   "version": "3.5.1"
  }
 },
 "nbformat": 4,
 "nbformat_minor": 0
}
