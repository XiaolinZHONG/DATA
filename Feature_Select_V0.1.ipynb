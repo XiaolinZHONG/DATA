{
 "cells": [
  {
   "cell_type": "code",
   "execution_count": 6,
   "metadata": {
    "collapsed": true
   },
   "outputs": [],
   "source": [
    "#coding=utf-8\n",
    "%matplotlib inline"
   ]
  },
  {
   "cell_type": "heading",
   "metadata": {},
   "level": 1,
   "source": [
    "读取数据并做简单处理"
   ]
  },
  {
   "cell_type": "code",
   "execution_count": 24,
   "metadata": {},
   "outputs": [
    {
     "name": "stdout",
     "output_type": "stream",
     "text": [
      "data shape: (10058L, 96L)\n"
     ]
    }
   ],
   "source": [
    "from sklearn import preprocessing\n",
    "import pandas as pd\n",
    "from pandas import DataFrame\n",
    "import numpy as np\n",
    "import matplotlib.pylab as plt\n",
    "\n",
    "\n",
    "data= pd.read_csv('D:\\\\data\\\\uidfeature2.csv',sep=',')\n",
    "df=DataFrame(data)\n",
    "\n",
    "#drop the nan value samples\n",
    "newdf=df.dropna(how='any')\n",
    "#get the data and label\n",
    "label=np.array(newdf.ix[:,1])\n",
    "datas=np.array(newdf.ix[:,2:])\n",
    "print 'data shape:',datas.shape\n",
    "#product the new data distribution like Gaussian with zero mean and unit variance.\n",
    "datasnew=preprocessing.robust_scale(datas)# ignore some very large data\n",
    "\n"
   ]
  },
  {
   "cell_type": "code",
   "execution_count": null,
   "outputs": [],
   "source": [
    ""
   ]
  },
  {
   "cell_type": "heading",
   "metadata": {},
   "level": 1,
   "source": [
    "导入森林决策树来评估 特征的重要性"
   ]
  },
  {
   "cell_type": "code",
   "execution_count": 83,
   "metadata": {},
   "outputs": [
    {
     "name": "stdout",
     "output_type": "stream",
     "text": [
      "index of features sort by importance: \n[95 40 36 19 18 35  9 39 12 20 71 93  7  0 94 21  8 17  2 76 54 69 41 61 10\n 14 68 70 63 22  1 78 33 84 52 86 13 32 89 38 49 67 79 48 80 43 60 53 59 87\n 81 11  6 65 82 29 23 46 83 42 30 25 34 45 37 50 24 91 15  4 31 44 57 58 62\n  5 26 56 88 28 66 85 51 90 55 73  3 77 64 75 74 47 72 27 16 92]\n################################################################################\nselect module\n67\n[[ 0.          0.5         0.         ..., -0.08035723 -0.15433353  0.        ]\n [ 0.          0.          0.         ..., -0.21380666  0.11421865  0.        ]\n [ 0.          0.5         0.         ...,  1.08580494  6.49332532  0.        ]\n ..., \n [ 0.          0.          0.         ...,  0.59635637  1.11109839  0.        ]\n [ 0.          0.          0.         ..., -0.39061883 -0.09719558  0.        ]\n [ 0.         -0.5         0.         ..., -0.30054419 -0.37132034  0.        ]]\n"
     ]
    }
   ],
   "source": [
    "from sklearn.ensemble import ExtraTreesClassifier\n",
    "from sklearn.feature_selection import SelectFromModel\n",
    "modeltree=ExtraTreesClassifier()\n",
    "modeltree.fit(datasnew,label)\n",
    "\n",
    "importance=modeltree.feature_importances_\n",
    "#print 'importance of features:','\\n',importance\n",
    "print  'index of features sort by importance:','\\n',np.argsort(model.feature_importances_)\n",
    "print '#'*80\n",
    "print 'select module'\n",
    "modeltreenew=SelectFromModel(lsvc,prefit=True)\n",
    "print modeltreenew.transform(datasnew).shape[1]\n",
    "print modeltreenew.transform(datasnew)"
   ]
  },
  {
   "cell_type": "heading",
   "metadata": {},
   "level": 1,
   "source": [
    "使用 linear models penalized"
   ]
  },
  {
   "cell_type": "code",
   "execution_count": 84,
   "metadata": {},
   "outputs": [
    {
     "name": "stdout",
     "output_type": "stream",
     "text": [
      "feature num: \n96\n"
     ]
    },
    {
     "name": "stdout",
     "output_type": "stream",
     "text": [
      "index of features sort by importance: \n[[80  1 59 52 26 61  4 33  3 11 89 45 69 67  0 78 86 70 77 10 27 24 94 82\n  92 42 22 57 84 20 21 90 65 72 56 55 53 93 51 50 48 76 87 63 95 19 28 18\n  15 14 32 35 12 34  9  7 40  5 36 71 44 91 66 23 46 85 64 29 43 79 62 37\n  88 60 54 16 73 68  8 38 83  6 13 31  2 47 17 75 25 81 74 49 30 58 41 39]]\n################################################################################\nselect module\nnew feature num: \n67\n[[ 0.          0.5         0.         ..., -0.08035723 -0.15433353  0.        ]\n [ 0.          0.          0.         ..., -0.21380666  0.11421865  0.        ]\n [ 0.          0.5         0.         ...,  1.08580494  6.49332532  0.        ]\n ..., \n [ 0.          0.          0.         ...,  0.59635637  1.11109839  0.        ]\n [ 0.          0.          0.         ..., -0.39061883 -0.09719558  0.        ]\n [ 0.         -0.5         0.         ..., -0.30054419 -0.37132034  0.        ]]\n"
     ]
    }
   ],
   "source": [
    "from sklearn.svm import LinearSVC\n",
    "from sklearn.feature_selection import SelectFromModel\n",
    "print 'feature num:','\\n',datasnew.shape[1]\n",
    "lsvc=LinearSVC(penalty='l1',dual=False,C=0.1)\n",
    "lsvc.fit(datasnew,label)\n",
    "#importance=lsvc.coef_\n",
    "print 'index of features sort by importance:','\\n',np.argsort(lsvc.coef_)\n",
    "\n",
    "print '#'*80\n",
    "print 'select module'\n",
    "modellsvc=SelectFromModel(lsvc,prefit=True)\n",
    "#通过一定的规则把小于阈值的特征清除掉后\n",
    "print 'new feature num:','\\n',modellsvc.transform(datasnew).shape[1]\n",
    "print modellsvc.transform(datasnew)"
   ]
  },
  {
   "cell_type": "heading",
   "metadata": {},
   "level": 1,
   "source": [
    "使用单一变量的chi2模型筛选"
   ]
  },
  {
   "cell_type": "code",
   "execution_count": 88,
   "metadata": {},
   "outputs": [
    {
     "name": "stdout",
     "output_type": "stream",
     "text": [
      "96\n"
     ]
    }
   ],
   "source": [
    "from sklearn.feature_selection import SelectKBest\n",
    "from sklearn.feature_selection import chi2\n",
    "print datas.shape[1]\n",
    "#X变量的数据必须是非负数\n",
    "#newdatasnew= SelectKBest(chi2,k=30).fit_transform(datas,label)\n",
    "#print newdatasnew.shape[1]"
   ]
  },
  {
   "cell_type": "heading",
   "metadata": {},
   "level": 1,
   "source": [
    "LassoCV 特征选择 最终选择的特征为2个"
   ]
  },
  {
   "cell_type": "code",
   "execution_count": 97,
   "metadata": {},
   "outputs": [
    {
     "name": "stdout",
     "output_type": "stream",
     "text": [
      "4\n"
     ]
    },
    {
     "data": {
      "image/png": "[encoded data removed]",
      "text/plain": [
       "<matplotlib.figure.Figure at 0x1af1d0f0>"
      ]
     },
     "metadata": {},
     "output_type": "display_data"
    }
   ],
   "source": [
    "\n",
    "from sklearn.linear_model import LassoCV\n",
    "\n",
    "X, y = datasnew,label\n",
    "\n",
    "# We use the base estimator LassoCV since the L1 norm promotes sparsity of features.\n",
    "clf = LassoCV()\n",
    "\n",
    "# Set a minimum threshold of 0.25\n",
    "sfm = SelectFromModel(clf, threshold=0.001)\n",
    "sfm.fit(X, y)\n",
    "n_features = sfm.transform(X).shape[1]\n",
    "print n_features\n",
    "# Reset the threshold till the number of features equals two.\n",
    "# Note that the attribute can be set directly instead of repeatedly\n",
    "# fitting the metatransformer.\n",
    "while n_features > 2:\n",
    "    sfm.threshold += 0.001\n",
    "    X_transform = sfm.transform(X)\n",
    "    n_features = X_transform.shape[1]\n",
    "\n",
    "# Plot the selected two features from X.\n",
    "plt.title(\n",
    "    \"Features selected from Boston using SelectFromModel with \"\n",
    "    \"threshold %0.3f.\" % sfm.threshold)\n",
    "feature1 = X_transform[:, 0]\n",
    "feature2 = X_transform[:, 1] \n",
    "plt.plot(feature1, feature2, 'r.')\n",
    "plt.xlabel(\"Feature number 1\")\n",
    "plt.ylabel(\"Feature number 2\")\n",
    "plt.ylim([np.min(feature2)-0.01, np.max(feature2)+0.01])\n",
    "plt.show()"
   ]
  },
  {
   "cell_type": "heading",
   "metadata": {},
   "level": 1,
   "source": [
    "绘制特征的重要性的分布图"
   ]
  },
  {
   "cell_type": "code",
   "execution_count": 98,
   "metadata": {},
   "outputs": [
    {
     "name": "stdout",
     "output_type": "stream",
     "text": [
      "Feature ranking:\n1. feature 92 (0.034115)\n2. feature 27 (0.022288)\n3. feature 74 (0.020345)\n4. feature 75 (0.018459)\n5. feature 23 (0.017342)\n6. feature 29 (0.016909)\n7. feature 73 (0.016724)\n8. feature 16 (0.016693)\n9. feature 3 (0.016015)\n10. feature 11 (0.015676)\n11. feature 86 (0.015518)\n12. feature 4 (0.015096)\n13. feature 25 (0.014896)\n14. feature 89 (0.014833)\n15. feature 33 (0.014484)\n16. feature 45 (0.014367)\n17. feature 42 (0.014109)\n18. feature 64 (0.013877)\n19. feature 80 (0.013785)\n20. feature 43 (0.013755)\n21. feature 83 (0.013664)\n22. feature 90 (0.013437)\n23. feature 57 (0.013364)\n24. feature 66 (0.013283)\n25. feature 91 (0.013028)\n26. feature 62 (0.012974)\n27. feature 32 (0.012949)\n28. feature 58 (0.012829)\n29. feature 84 (0.012660)\n30. feature 15 (0.012593)\n31. feature 48 (0.012587)\n32. feature 88 (0.012327)\n33. feature 59 (0.012236)\n34. feature 77 (0.012030)\n35. feature 46 (0.011823)\n36. feature 47 (0.011764)\n37. feature 50 (0.011747)\n38. feature 1 (0.011589)\n39. feature 53 (0.011554)\n40. feature 67 (0.011488)\n41. feature 30 (0.011344)\n42. feature 44 (0.011327)\n43. feature 85 (0.011253)\n44. feature 52 (0.011235)\n45. feature 37 (0.011210)\n46. feature 26 (0.011138)\n47. feature 63 (0.011031)\n48. feature 56 (0.010923)\n49. feature 5 (0.010820)\n50. feature 82 (0.010735)\n51. feature 65 (0.010724)\n52. feature 51 (0.010703)\n53. feature 24 (0.010679)\n54. feature 49 (0.010337)\n55. feature 28 (0.010020)\n"
     ]
    },
    {
     "data": {
      "image/png": "[encoded data removed]",
      "text/plain": [
       "<matplotlib.figure.Figure at 0x21d106a0>"
      ]
     },
     "metadata": {},
     "output_type": "display_data"
    }
   ],
   "source": [
    "std = np.std([importance for tree in modeltree.estimators_],axis=0)\n",
    "indices = np.argsort(importance)[::-1] #对特征按照重要性排序\n",
    "\n",
    "# Print the feature ranking\n",
    "print(\"Feature ranking:\")\n",
    "\n",
    "for f in range(datasnew.shape[1]):\n",
    "    if importance[indices[f]]>0.01:\n",
    "        print(\"%d. feature %d (%f)\" % (f + 1, indices[f], importance[indices[f]]))\n",
    "\n",
    "# Plot the feature importances of the forest\n",
    "plt.figure(figsize=(20,8))\n",
    "plt.title(\"Feature importances\")\n",
    "plt.bar(range(datasnew.shape[1]), importance[indices],\n",
    "       color=\"g\", yerr=std[indices], align=\"center\")\n",
    "plt.xticks(range(datasnew.shape[1]), indices)\n",
    "plt.xlim([-1, datasnew.shape[1]])\n",
    "plt.grid(True)\n",
    "plt.show()"
   ]
  },
  {
   "cell_type": "heading",
   "metadata": {},
   "level": 1,
   "source": [
    ""
   ]
  },
  {
   "cell_type": "code",
   "execution_count": 52,
   "metadata": {},
   "outputs": [],
   "source": [
    ""
   ]
  },
  {
   "cell_type": "code",
   "execution_count": null,
   "metadata": {},
   "outputs": [],
   "source": [
    ""
   ]
  }
 ],
 "metadata": {
  "kernelspec": {
   "display_name": "Python 2",
   "language": "python",
   "name": "python2"
  },
  "language_info": {
   "codemirror_mode": {
    "name": "ipython",
    "version": 2.0
   },
   "file_extension": ".py",
   "mimetype": "text/x-python",
   "name": "python",
   "nbconvert_exporter": "python",
   "pygments_lexer": "ipython2",
   "version": "2.7.6"
  }
 },
 "nbformat": 4,
 "nbformat_minor": 0
}